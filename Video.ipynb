{
 "cells": [
  {
   "cell_type": "code",
   "execution_count": null,
   "id": "9827a0f9",
   "metadata": {},
   "outputs": [],
   "source": [
    "import matplotlib.pyplot as plt\n",
    "\n",
    "import os\n",
    "os.environ['TF_CPP_MIN_LOG_LEVEL'] = '3'  # or any {'0', '1', '2'}\n",
    "import tensorflow as tf\n",
    "tf.get_logger().setLevel('ERROR')\n",
    "\n",
    "import numpy as np\n",
    "import librosa\n",
    "\n",
    "from composition.instrument import Score, Part, Phrase, show\n",
    "import composition.common as k\n",
    "from utils import QuantileTransformer"
   ]
  },
  {
   "cell_type": "code",
   "execution_count": null,
   "id": "33d87df1",
   "metadata": {},
   "outputs": [],
   "source": [
    "parts = (vln1, vln2)\n",
    "figure, axes = plt.subplots(2)\n",
    "print(type(axes))\n",
    "for p in parts:\n",
    "    fig = plt.figure(p.show())\n",
    "    ax = fig.axes\n",
    "    print(type(fig.axes))\n",
    "    gs = ax[0, 1].get_gridspec()\n",
    "    figure.add_subplot(gs)"
   ]
  }
 ],
 "metadata": {
  "kernelspec": {
   "display_name": "Python 3 (ipykernel)",
   "language": "python",
   "name": "python3"
  },
  "language_info": {
   "codemirror_mode": {
    "name": "ipython",
    "version": 3
   },
   "file_extension": ".py",
   "mimetype": "text/x-python",
   "name": "python",
   "nbconvert_exporter": "python",
   "pygments_lexer": "ipython3",
   "version": "3.9.9"
  }
 },
 "nbformat": 4,
 "nbformat_minor": 5
}
