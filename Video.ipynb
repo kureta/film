{
 "cells": [
  {
   "cell_type": "code",
   "execution_count": null,
   "id": "d032c5c4",
   "metadata": {},
   "outputs": [],
   "source": [
    "import matplotlib.pyplot as plt\n",
    "import matplotlib.gridspec as gridspec\n",
    "\n",
    "import os\n",
    "os.environ['TF_CPP_MIN_LOG_LEVEL'] = '3'  # or any {'0', '1', '2'}\n",
    "import tensorflow as tf\n",
    "tf.get_logger().setLevel('ERROR')\n",
    "\n",
    "import numpy as np\n",
    "import pickle\n",
    "\n",
    "from composition.instrument import Score, Part, Phrase\n",
    "from composition import common as k"
   ]
  },
  {
   "cell_type": "code",
   "execution_count": null,
   "id": "ef4986cb",
   "metadata": {},
   "outputs": [],
   "source": [
    "with open('audio-data/december/fractus-duo//score.pkl', 'rb') as f:\n",
    "    score = pickle.load(f)"
   ]
  },
  {
   "cell_type": "code",
   "execution_count": null,
   "id": "4b855889",
   "metadata": {},
   "outputs": [],
   "source": [
    "shit = score.show(k.time_to_step(0), k.time_to_step(17))"
   ]
  },
  {
   "cell_type": "code",
   "execution_count": null,
   "id": "696fe871",
   "metadata": {},
   "outputs": [],
   "source": [
    "shit = score.show(k.time_to_step(17), k.time_to_step(26))"
   ]
  },
  {
   "cell_type": "code",
   "execution_count": null,
   "id": "d631a7cd",
   "metadata": {},
   "outputs": [],
   "source": [
    "shit = score.show(k.time_to_step(26), k.time_to_step(38))"
   ]
  },
  {
   "cell_type": "code",
   "execution_count": null,
   "id": "dd42e5d3",
   "metadata": {},
   "outputs": [],
   "source": [
    "shit = score.show(k.time_to_step(38), k.time_to_step(49.879))"
   ]
  },
  {
   "cell_type": "code",
   "execution_count": null,
   "id": "af8ab542",
   "metadata": {},
   "outputs": [],
   "source": [
    "shit = score.show(k.time_to_step(49.879), k.time_to_step(55.339))"
   ]
  },
  {
   "cell_type": "code",
   "execution_count": null,
   "id": "d82f9555",
   "metadata": {},
   "outputs": [],
   "source": [
    "shit = score.show(k.time_to_step(55.339), k.time_to_step(63.315))"
   ]
  },
  {
   "cell_type": "code",
   "execution_count": null,
   "id": "3294f085",
   "metadata": {},
   "outputs": [],
   "source": [
    "shit = score.show(k.time_to_step(63.315), k.time_to_step(69.552))"
   ]
  },
  {
   "cell_type": "code",
   "execution_count": null,
   "id": "d8ab3336",
   "metadata": {},
   "outputs": [],
   "source": [
    "shit = score.show(k.time_to_step(69.552), k.time_to_step(121))"
   ]
  },
  {
   "cell_type": "code",
   "execution_count": null,
   "id": "3d9a8d7f",
   "metadata": {},
   "outputs": [],
   "source": [
    "shit = score.show(k.time_to_step(121), k.time_to_step(154))"
   ]
  },
  {
   "cell_type": "code",
   "execution_count": null,
   "id": "b2299d09",
   "metadata": {},
   "outputs": [],
   "source": [
    "shit = score.show(k.time_to_step(154), k.time_to_step(181))"
   ]
  },
  {
   "cell_type": "code",
   "execution_count": null,
   "id": "22b43a9f",
   "metadata": {},
   "outputs": [],
   "source": [
    "shit = score.show(k.time_to_step(181), k.time_to_step(201))"
   ]
  },
  {
   "cell_type": "code",
   "execution_count": null,
   "id": "862c3537",
   "metadata": {},
   "outputs": [],
   "source": [
    "shit = score.show(k.time_to_step(201), k.time_to_step(217.549))"
   ]
  },
  {
   "cell_type": "code",
   "execution_count": null,
   "id": "36380df5",
   "metadata": {},
   "outputs": [],
   "source": [
    "shit = score.show(k.time_to_step(217.549), k.time_to_step(228.5))"
   ]
  },
  {
   "cell_type": "code",
   "execution_count": null,
   "id": "aa91d417",
   "metadata": {},
   "outputs": [],
   "source": [
    "p = [\n",
    "    (k.time_to_step(0), k.time_to_step(17)),\n",
    "    (k.time_to_step(17), k.time_to_step(26)),\n",
    "    (k.time_to_step(26), k.time_to_step(38)),\n",
    "    (k.time_to_step(38), k.time_to_step(49.879)),\n",
    "    (k.time_to_step(49.879), k.time_to_step(55.339)),\n",
    "    (k.time_to_step(55.339), k.time_to_step(63.315)),\n",
    "    (k.time_to_step(63.315), k.time_to_step(69.552)),\n",
    "    (k.time_to_step(69.552), k.time_to_step(121)),\n",
    "    (k.time_to_step(121), k.time_to_step(154)),\n",
    "    (k.time_to_step(154), k.time_to_step(181)),\n",
    "    (k.time_to_step(181), k.time_to_step(201)),\n",
    "    (k.time_to_step(201), k.time_to_step(217.549)),\n",
    "    (k.time_to_step(217.549), k.time_to_step(228.5))\n",
    "    ]\n",
    "for i, pairs in enumerate(p):\n",
    "    score.video(f'/home/kureta/Videos/December/{i}.mp4', *pairs, 'h264_nvenc')"
   ]
  },
  {
   "cell_type": "code",
   "execution_count": null,
   "id": "f28d163d",
   "metadata": {},
   "outputs": [],
   "source": []
  }
 ],
 "metadata": {
  "kernelspec": {
   "display_name": "Python 3 (ipykernel)",
   "language": "python",
   "name": "python3"
  },
  "language_info": {
   "codemirror_mode": {
    "name": "ipython",
    "version": 3
   },
   "file_extension": ".py",
   "mimetype": "text/x-python",
   "name": "python",
   "nbconvert_exporter": "python",
   "pygments_lexer": "ipython3",
   "version": "3.9.9"
  }
 },
 "nbformat": 4,
 "nbformat_minor": 5
}
