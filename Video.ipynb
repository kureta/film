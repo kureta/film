{
 "cells": [
  {
   "cell_type": "code",
   "execution_count": null,
   "id": "d2c78996",
   "metadata": {},
   "outputs": [],
   "source": [
    "import matplotlib.pyplot as plt\n",
    "import matplotlib.gridspec as gridspec\n",
    "\n",
    "import os\n",
    "os.environ['TF_CPP_MIN_LOG_LEVEL'] = '3'  # or any {'0', '1', '2'}\n",
    "import tensorflow as tf\n",
    "tf.get_logger().setLevel('ERROR')\n",
    "\n",
    "import numpy as np\n",
    "import pickle\n",
    "\n",
    "from composition.instrument import Score, Part, Phrase\n",
    "from composition import common as k"
   ]
  },
  {
   "cell_type": "code",
   "execution_count": null,
   "id": "67a37e4d",
   "metadata": {},
   "outputs": [],
   "source": [
    "with open('audio-data/december/fractus-duo//score.pkl', 'rb') as f:\n",
    "    score = pickle.load(f)"
   ]
  },
  {
   "cell_type": "code",
   "execution_count": null,
   "id": "7d11a6ab",
   "metadata": {},
   "outputs": [],
   "source": [
    "shit = score.show(k.time_to_step(0), k.time_to_step(17))"
   ]
  },
  {
   "cell_type": "code",
   "execution_count": null,
   "id": "ac9937ef",
   "metadata": {},
   "outputs": [],
   "source": [
    "shit = score.show(k.time_to_step(17), k.time_to_step(26))"
   ]
  },
  {
   "cell_type": "code",
   "execution_count": null,
   "id": "9efd07c7",
   "metadata": {},
   "outputs": [],
   "source": [
    "shit = score.show(k.time_to_step(26), k.time_to_step(38))"
   ]
  },
  {
   "cell_type": "code",
   "execution_count": null,
   "id": "84e82c60",
   "metadata": {},
   "outputs": [],
   "source": [
    "shit = score.show(k.time_to_step(38), k.time_to_step(49.879))"
   ]
  },
  {
   "cell_type": "code",
   "execution_count": null,
   "id": "b957d15b",
   "metadata": {},
   "outputs": [],
   "source": [
    "shit = score.show(k.time_to_step(49.879), k.time_to_step(55.339))"
   ]
  },
  {
   "cell_type": "code",
   "execution_count": null,
   "id": "9c2ed31d",
   "metadata": {},
   "outputs": [],
   "source": [
    "shit = score.show(k.time_to_step(55.339), k.time_to_step(63.315))"
   ]
  },
  {
   "cell_type": "code",
   "execution_count": null,
   "id": "54e3256a",
   "metadata": {},
   "outputs": [],
   "source": [
    "shit = score.show(k.time_to_step(63.315), k.time_to_step(69.552))"
   ]
  },
  {
   "cell_type": "code",
   "execution_count": null,
   "id": "d6c8119d",
   "metadata": {},
   "outputs": [],
   "source": [
    "shit = score.show(k.time_to_step(69.552), k.time_to_step(121))"
   ]
  },
  {
   "cell_type": "code",
   "execution_count": null,
   "id": "d2a88ae2",
   "metadata": {},
   "outputs": [],
   "source": [
    "shit = score.show(k.time_to_step(121), k.time_to_step(154))"
   ]
  },
  {
   "cell_type": "code",
   "execution_count": null,
   "id": "8aefcd42",
   "metadata": {},
   "outputs": [],
   "source": [
    "shit = score.show(k.time_to_step(154), k.time_to_step(181))"
   ]
  },
  {
   "cell_type": "code",
   "execution_count": null,
   "id": "95a3301b",
   "metadata": {},
   "outputs": [],
   "source": [
    "shit = score.show(k.time_to_step(181), k.time_to_step(201))"
   ]
  },
  {
   "cell_type": "code",
   "execution_count": null,
   "id": "dc8b2d7a",
   "metadata": {},
   "outputs": [],
   "source": [
    "shit = score.show(k.time_to_step(201), k.time_to_step(217.549))"
   ]
  },
  {
   "cell_type": "code",
   "execution_count": null,
   "id": "a442f9a7",
   "metadata": {},
   "outputs": [],
   "source": [
    "shit = score.show(k.time_to_step(217.549), k.time_to_step(228.5))"
   ]
  },
  {
   "cell_type": "code",
   "execution_count": null,
   "id": "77921b71",
   "metadata": {},
   "outputs": [],
   "source": [
    "p = [\n",
    "    (k.time_to_step(0), k.time_to_step(17)),\n",
    "    (k.time_to_step(17), k.time_to_step(26)),\n",
    "    (k.time_to_step(26), k.time_to_step(38)),\n",
    "    (k.time_to_step(38), k.time_to_step(49.879)),\n",
    "    (k.time_to_step(49.879), k.time_to_step(55.339)),\n",
    "    (k.time_to_step(55.339), k.time_to_step(63.315)),\n",
    "    (k.time_to_step(63.315), k.time_to_step(69.552)),\n",
    "    (k.time_to_step(69.552), k.time_to_step(121)),\n",
    "    (k.time_to_step(121), k.time_to_step(154)),\n",
    "    \n",
    "    ]\n",
    "for pairs in p:\n",
    "    score.video(f'/home/kureta/Videos/December/{i}.mp4', *pairs, 'h264_nvenc')"
   ]
  },
  {
   "cell_type": "code",
   "execution_count": null,
   "id": "db17c6c4",
   "metadata": {},
   "outputs": [],
   "source": []
  }
 ],
 "metadata": {
  "kernelspec": {
   "display_name": "Python 3 (ipykernel)",
   "language": "python",
   "name": "python3"
  },
  "language_info": {
   "codemirror_mode": {
    "name": "ipython",
    "version": 3
   },
   "file_extension": ".py",
   "mimetype": "text/x-python",
   "name": "python",
   "nbconvert_exporter": "python",
   "pygments_lexer": "ipython3",
   "version": "3.9.9"
  }
 },
 "nbformat": 4,
 "nbformat_minor": 5
}
