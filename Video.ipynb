{
 "cells": [
  {
   "cell_type": "code",
   "execution_count": null,
   "id": "34b93157",
   "metadata": {},
   "outputs": [],
   "source": [
    "import matplotlib.pyplot as plt\n",
    "import matplotlib.gridspec as gridspec\n",
    "\n",
    "import os\n",
    "os.environ['TF_CPP_MIN_LOG_LEVEL'] = '3'  # or any {'0', '1', '2'}\n",
    "import tensorflow as tf\n",
    "tf.get_logger().setLevel('ERROR')\n",
    "\n",
    "import numpy as np\n",
    "import pickle\n",
    "\n",
    "from composition.instrument import Score, Part, Phrase\n",
    "from composition import common as k"
   ]
  },
  {
   "cell_type": "code",
   "execution_count": null,
   "id": "9b1cdceb",
   "metadata": {},
   "outputs": [],
   "source": [
    "with open('audio-data/december/fractus-duo//score.pkl', 'rb') as f:\n",
    "    score = pickle.load(f)"
   ]
  },
  {
   "cell_type": "code",
   "execution_count": null,
   "id": "64762180",
   "metadata": {},
   "outputs": [],
   "source": [
    "shit = score.show(k.time_to_step(0), k.time_to_step(17),\n",
    "                  [\n",
    "                      [66, 71, 78],\n",
    "                      [61, 68, 73],\n",
    "                      [49, 56, 61],\n",
    "                      [42, 47, 54],\n",
    "                  ])"
   ]
  },
  {
   "cell_type": "code",
   "execution_count": null,
   "id": "f4a393c9",
   "metadata": {},
   "outputs": [],
   "source": [
    "shit = score.show(k.time_to_step(17), k.time_to_step(26),\n",
    "                  [\n",
    "                      [75, 83, 79, 77],\n",
    "                      [64, 71, 77, 83],\n",
    "                      [52, 55, 56, 59],\n",
    "                      [39, 40, 43, 51],\n",
    "                      [71, 79, 83],\n",
    "                      [66, 70, 78]\n",
    "                  ]\n",
    "                 )"
   ]
  },
  {
   "cell_type": "code",
   "execution_count": null,
   "id": "8287066d",
   "metadata": {},
   "outputs": [],
   "source": [
    "shit = score.show(k.time_to_step(26), k.time_to_step(38),\n",
    "                  [\n",
    "                      [71, 76, 75, 80, 83],\n",
    "                      [71, 75, 76, 79, 80],\n",
    "                      [51, 52, 53, 55, 59],\n",
    "                      [39, 41, 44, 47],\n",
    "                      [71, 74, 78, 81, 83],\n",
    "                      [66, 68, 72, 76, 78]\n",
    "                  ]\n",
    "                 )"
   ]
  },
  {
   "cell_type": "code",
   "execution_count": null,
   "id": "7c38fc96",
   "metadata": {},
   "outputs": [],
   "source": [
    "shit = score.show(k.time_to_step(38), k.time_to_step(49.879),\n",
    "                 [\n",
    "                     [55, 62.2, 67, 71.8, 79, 83],\n",
    "                     [60, 67.2, 71, 76.9, 84],\n",
    "                     [66, 73.2, 78, 82.8, 90],\n",
    "                     [68, 75.2, 84.8, 92],\n",
    "                 ]\n",
    "                 )"
   ]
  },
  {
   "cell_type": "code",
   "execution_count": null,
   "id": "230c65bd",
   "metadata": {},
   "outputs": [],
   "source": [
    "shit = score.show(k.time_to_step(49.879), k.time_to_step(55.339),\n",
    "                  [\n",
    "                      [79],\n",
    "                      [60],\n",
    "                      [64, 73.6, 83.2, 88],\n",
    "                      [70, 79.6, 89.2, 94],\n",
    "                  ]\n",
    "                 )"
   ]
  },
  {
   "cell_type": "code",
   "execution_count": null,
   "id": "a6ee56d1",
   "metadata": {},
   "outputs": [],
   "source": [
    "24*0.4+62, 24*0.8+62"
   ]
  },
  {
   "cell_type": "code",
   "execution_count": null,
   "id": "a736235a",
   "metadata": {},
   "outputs": [],
   "source": [
    "shit = score.show(k.time_to_step(55.339), k.time_to_step(63.315),\n",
    "                  [\n",
    "                      [57, 66.6, 76.2, 81],\n",
    "                      [62, 71.6, 81.2, 86],\n",
    "                      [64, 73.6, 83.2, 88],\n",
    "                      [70, 79.6, 89.2, 94],\n",
    "                  ]\n",
    "                 )"
   ]
  },
  {
   "cell_type": "code",
   "execution_count": null,
   "id": "b73d0feb",
   "metadata": {},
   "outputs": [],
   "source": [
    "import composition.common as k"
   ]
  },
  {
   "cell_type": "code",
   "execution_count": null,
   "id": "7ac0dce3",
   "metadata": {},
   "outputs": [],
   "source": [
    "higher_harms = k.harmonics_to_pitches(36, [2, 11, 13, 15, 17, 19, 21, 23, 25, 27])[1:]\n",
    "stretched_higher_harms = k.harmonics_to_pitches(36, [n ** 1.02 for n in [2, 11, 13, 15, 17, 19, 21, 23, 25, 27]])[1:]"
   ]
  },
  {
   "cell_type": "code",
   "execution_count": null,
   "id": "1eb395fe",
   "metadata": {},
   "outputs": [],
   "source": [
    "shit = score.show(k.time_to_step(63.315), k.time_to_step(69.552),\n",
    "                  [\n",
    "                      [80, 79.27, 77.89, 77],\n",
    "                      [71, 71.83, 74.29, 75],\n",
    "                      [65, 65.51, 66.1, 67],\n",
    "                      [35, 35.875, 36, 36.125, 37],\n",
    "                      \n",
    "                      [73, 73.6, 75.52, 76],\n",
    "                      [79, 79.6, 81.52, 82],\n",
    "                  ]\n",
    "                 )"
   ]
  },
  {
   "cell_type": "code",
   "execution_count": null,
   "id": "bf9fba3f",
   "metadata": {},
   "outputs": [],
   "source": [
    "shit = score.show(k.time_to_step(69.552), k.time_to_step(121),\n",
    "                  [\n",
    "                      [68, 68.41, 69.05, 70],\n",
    "                      [70, 70.88, 71.58, 72],\n",
    "                      [65, 65.51, 66.1, 67],\n",
    "                      [35, 35.875, 36, 36.125, 37],\n",
    "                      \n",
    "                      higher_harms[-5:],\n",
    "                      higher_harms[-9:-4],\n",
    "                  ]\n",
    "                 )"
   ]
  },
  {
   "cell_type": "code",
   "execution_count": null,
   "id": "58639fe0",
   "metadata": {},
   "outputs": [],
   "source": [
    "import librosa"
   ]
  },
  {
   "cell_type": "code",
   "execution_count": null,
   "id": "139a5d58",
   "metadata": {},
   "outputs": [],
   "source": [
    "def get_harm(n, stretch=0, base=36):\n",
    "    f_base = librosa.midi_to_hz(base)\n",
    "    f_harm = f_base * n ** (1 + stretch)\n",
    "    return librosa.hz_to_midi(f_harm)"
   ]
  },
  {
   "cell_type": "code",
   "execution_count": null,
   "id": "12625171",
   "metadata": {},
   "outputs": [],
   "source": [
    "shit = score.show(k.time_to_step(121), k.time_to_step(154),\n",
    "                  [\n",
    "                      [get_harm(9), get_harm(9, 0.05)],\n",
    "                      [get_harm(11), get_harm(11, 0.05)],\n",
    "                      [get_harm(3), get_harm(3, 0.05)],\n",
    "                      [36],\n",
    "                      \n",
    "                      [get_harm(5), get_harm(5, 0.05)],\n",
    "                      [get_harm(7), get_harm(7, 0.05)],\n",
    "                  ]\n",
    "                 )"
   ]
  },
  {
   "cell_type": "code",
   "execution_count": null,
   "id": "e1c3551f",
   "metadata": {},
   "outputs": [],
   "source": [
    "shit = score.show(k.time_to_step(154), k.time_to_step(181),\n",
    "                  [\n",
    "                      [get_harm(9), get_harm(9, 0.025), get_harm(9, -0.05)],\n",
    "                      [get_harm(11), get_harm(11, 0.025), get_harm(11, -0.05)],\n",
    "                      [get_harm(3), get_harm(3, 0.025), get_harm(3, -0.05)],\n",
    "                      [36],\n",
    "                      \n",
    "                      [get_harm(5), get_harm(5, 0.025), get_harm(5, -0.05)],\n",
    "                      [get_harm(7), get_harm(7, 0.025), get_harm(7, -0.05)],\n",
    "                  ]\n",
    "                 )"
   ]
  },
  {
   "cell_type": "code",
   "execution_count": null,
   "id": "60d9b721",
   "metadata": {},
   "outputs": [],
   "source": [
    "shit = score.show(k.time_to_step(181), k.time_to_step(201),\n",
    "                  [\n",
    "                      [get_harm(9 + i + 1) for i in range(5)] + [74.04],\n",
    "                      [get_harm(11 + i + 1) for i in range(5)] + [77.51],\n",
    "                      [get_harm(3 + i + 1) for i in range(5)] + [55.02],\n",
    "                      [get_harm(1 + i + 1) for i in range(5)] + [81.69, 79.02],\n",
    "                      \n",
    "                      [get_harm(5 + i + 1) for i in range(5)] + [63.86],\n",
    "                      [get_harm(7 + i + 1) for i in range(5)] + [69.69],\n",
    "                  ]\n",
    "                 )"
   ]
  },
  {
   "cell_type": "code",
   "execution_count": null,
   "id": "fba94677",
   "metadata": {},
   "outputs": [],
   "source": [
    "shit = score.show(k.time_to_step(201), k.time_to_step(217.549),\n",
    "                  [\n",
    "                      [65, 86],\n",
    "                      [60, 84],\n",
    "                      [72, 61],\n",
    "                      [67, 42],\n",
    "                      \n",
    "                      [65, 85],\n",
    "                      [60, 83],\n",
    "                  ]\n",
    "                 )"
   ]
  },
  {
   "cell_type": "code",
   "execution_count": null,
   "id": "26fac32e",
   "metadata": {},
   "outputs": [],
   "source": [
    "shit = score.show(k.time_to_step(217.549), k.time_to_step(228.5),\n",
    "                  [\n",
    "                      [66, 71, 78],\n",
    "                      [61, 68, 73],\n",
    "                      [49, 56, 61],\n",
    "                      [42, 47, 54],\n",
    "                      [66+12, 71+12, 78+12],\n",
    "                      [61+12, 68+12, 73+12],\n",
    "                  ])"
   ]
  },
  {
   "cell_type": "code",
   "execution_count": null,
   "id": "8502c140",
   "metadata": {},
   "outputs": [],
   "source": [
    "pitch_ticks = [[\n",
    "    [66, 71, 78],\n",
    "    [61, 68, 73],\n",
    "    [49, 56, 61],\n",
    "    [42, 47, 54],\n",
    "],\n",
    "[\n",
    "    [75, 83, 79, 77],\n",
    "    [64, 71, 77, 83],\n",
    "    [52, 55, 56, 59],\n",
    "    [39, 40, 43, 51],\n",
    "    [71, 79, 83],\n",
    "    [66, 70, 78],\n",
    "],\n",
    "[\n",
    "    [71, 76, 75, 80, 83],\n",
    "    [71, 75, 76, 79, 80],\n",
    "    [51, 52, 53, 55, 59],\n",
    "    [39, 41, 44, 47],\n",
    "    [71, 74, 78, 81, 83],\n",
    "    [66, 68, 72, 76, 78],\n",
    "],\n",
    "[\n",
    "    [55, 62.2, 67, 71.8, 79, 83],\n",
    "    [60, 67.2, 71, 76.9, 84],\n",
    "    [66, 73.2, 78, 82.8, 90],\n",
    "    [68, 75.2, 84.8, 92],\n",
    "],\n",
    "[\n",
    "    [79],\n",
    "    [60],\n",
    "    [64, 73.6, 83.2, 88],\n",
    "    [70, 79.6, 89.2, 94],\n",
    "],\n",
    "[\n",
    "    [57, 66.6, 76.2, 81],\n",
    "    [62, 71.6, 81.2, 86],\n",
    "    [64, 73.6, 83.2, 88],\n",
    "    [70, 79.6, 89.2, 94],\n",
    "],\n",
    "[\n",
    "    [80, 79.27, 77.89, 77],\n",
    "    [71, 71.83, 74.29, 75],\n",
    "    [65, 65.51, 66.1, 67],\n",
    "    [35, 35.875, 36, 36.125, 37],\n",
    "\n",
    "    [73, 73.6, 75.52, 76],\n",
    "    [79, 79.6, 81.52, 82],\n",
    "],\n",
    "[\n",
    "    [68, 68.41, 69.05, 70],\n",
    "    [70, 70.88, 71.58, 72],\n",
    "    [65, 65.51, 66.1, 67],\n",
    "    [35, 35.875, 36, 36.125, 37],\n",
    "\n",
    "    higher_harms[-5:],\n",
    "    higher_harms[-9:-4],\n",
    "],\n",
    "[\n",
    "    [get_harm(9), get_harm(9, 0.05)],\n",
    "    [get_harm(11), get_harm(11, 0.05)],\n",
    "    [get_harm(3), get_harm(3, 0.05)],\n",
    "    [36],\n",
    "\n",
    "    [get_harm(5), get_harm(5, 0.05)],\n",
    "    [get_harm(7), get_harm(7, 0.05)],\n",
    "],\n",
    "[\n",
    "    [get_harm(9), get_harm(9, 0.025), get_harm(9, -0.05)],\n",
    "    [get_harm(11), get_harm(11, 0.025), get_harm(11, -0.05)],\n",
    "    [get_harm(3), get_harm(3, 0.025), get_harm(3, -0.05)],\n",
    "    [36],\n",
    "\n",
    "    [get_harm(5), get_harm(5, 0.025), get_harm(5, -0.05)],\n",
    "    [get_harm(7), get_harm(7, 0.025), get_harm(7, -0.05)],\n",
    "],\n",
    "[\n",
    "    [get_harm(9 + i + 1) for i in range(5)] + [74.04],\n",
    "    [get_harm(11 + i + 1) for i in range(5)] + [77.51],\n",
    "    [get_harm(3 + i + 1) for i in range(5)] + [55.02],\n",
    "    [get_harm(1 + i + 1) for i in range(5)] + [81.69, 79.02],\n",
    "\n",
    "    [get_harm(5 + i + 1) for i in range(5)] + [63.86],\n",
    "    [get_harm(7 + i + 1) for i in range(5)] + [69.69],\n",
    "],\n",
    "[\n",
    "    [65, 86],\n",
    "    [60, 84],\n",
    "    [72, 61],\n",
    "    [67, 42],\n",
    "\n",
    "    [65, 85],\n",
    "    [60, 83],\n",
    "],\n",
    "[\n",
    "    [66, 71, 78],\n",
    "    [61, 68, 73],\n",
    "    [49, 56, 61],\n",
    "    [42, 47, 54],\n",
    "    [66+12, 71+12, 78+12],\n",
    "    [61+12, 68+12, 73+12],\n",
    "]]"
   ]
  },
  {
   "cell_type": "code",
   "execution_count": null,
   "id": "50286b19",
   "metadata": {},
   "outputs": [],
   "source": [
    "p = [\n",
    "    (k.time_to_step(0), k.time_to_step(17)),\n",
    "    (k.time_to_step(17), k.time_to_step(26)),\n",
    "    (k.time_to_step(26), k.time_to_step(38)),\n",
    "    (k.time_to_step(38), k.time_to_step(49.879)),\n",
    "    (k.time_to_step(49.879), k.time_to_step(55.339)),\n",
    "    (k.time_to_step(55.339), k.time_to_step(63.315)),\n",
    "    (k.time_to_step(63.315), k.time_to_step(69.552)),\n",
    "    (k.time_to_step(69.552), k.time_to_step(121)),\n",
    "    (k.time_to_step(121), k.time_to_step(154)),\n",
    "    (k.time_to_step(154), k.time_to_step(181)),\n",
    "    (k.time_to_step(181), k.time_to_step(201)),\n",
    "    (k.time_to_step(201), k.time_to_step(217.549)),\n",
    "    (k.time_to_step(217.549), k.time_to_step(228.5))\n",
    "    ]\n",
    "for i, (pairs, ticks) in enumerate(zip(p, pitch_ticks)):\n",
    "    score.video(f'/home/kureta/Videos/December/New Format/{i}.mp4', *pairs, ticks)"
   ]
  },
  {
   "cell_type": "code",
   "execution_count": null,
   "id": "36519a82",
   "metadata": {},
   "outputs": [],
   "source": []
  }
 ],
 "metadata": {
  "kernelspec": {
   "display_name": "Python 3 (ipykernel)",
   "language": "python",
   "name": "python3"
  },
  "language_info": {
   "codemirror_mode": {
    "name": "ipython",
    "version": 3
   },
   "file_extension": ".py",
   "mimetype": "text/x-python",
   "name": "python",
   "nbconvert_exporter": "python",
   "pygments_lexer": "ipython3",
   "version": "3.9.9"
  }
 },
 "nbformat": 4,
 "nbformat_minor": 5
}
