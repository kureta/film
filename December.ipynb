{
 "cells": [
  {
   "cell_type": "code",
   "execution_count": null,
   "id": "39184fdc",
   "metadata": {},
   "outputs": [],
   "source": [
    "import matplotlib.pyplot as plt"
   ]
  },
  {
   "cell_type": "code",
   "execution_count": null,
   "id": "106b7222",
   "metadata": {},
   "outputs": [],
   "source": [
    "import os\n",
    "os.environ['TF_CPP_MIN_LOG_LEVEL'] = '3'  # or any {'0', '1', '2'}\n",
    "import tensorflow as tf\n",
    "tf.get_logger().setLevel('ERROR')"
   ]
  },
  {
   "cell_type": "code",
   "execution_count": null,
   "id": "505ba113",
   "metadata": {},
   "outputs": [],
   "source": [
    "import numpy as np\n",
    "import librosa\n",
    "\n",
    "from composition.instrument import Score, Part, Phrase, show\n",
    "import composition.common as k\n",
    "from utils import QuantileTransformer"
   ]
  },
  {
   "cell_type": "markdown",
   "id": "5618cb00",
   "metadata": {},
   "source": [
    "* violin: mean: -43.36, std: 5.23\n",
    "* viola: mean: -42.76, std: 7.77\n",
    "* cello: mean: -57.26, std: 6.12\n",
    "* flute: mean: -55.27, std: 8.37\n",
    "* flute2: mean: -55.27, std: 8.37\n",
    "- Violin 55-103\n",
    "- Viola 48-91\n",
    "- Cello 36-76\n",
    "- Flute 60-96\n",
    "- Flute2 55-91"
   ]
  },
  {
   "cell_type": "code",
   "execution_count": null,
   "id": "cd2452e2",
   "metadata": {},
   "outputs": [],
   "source": [
    "def rescale2(a, mi, ma):\n",
    "    norm = (a - a[0]) / (a[-1] - a[0])\n",
    "    return norm * (ma - mi) + mi"
   ]
  },
  {
   "cell_type": "code",
   "execution_count": null,
   "id": "510e2d1e",
   "metadata": {},
   "outputs": [],
   "source": [
    "def fractal(points, n=3):\n",
    "    points = np.array(points)\n",
    "    segments = points.copy()\n",
    "    for _ in range(n):\n",
    "        segments = np.concatenate([rescale2(points, f, s)[:-1] for f, s in zip(segments, segments[1:])])\n",
    "        segments = np.concatenate((segments, points[-1:]))\n",
    "    return segments"
   ]
  },
  {
   "cell_type": "code",
   "execution_count": null,
   "id": "0dac90fc",
   "metadata": {},
   "outputs": [],
   "source": [
    "def to_delta(d):\n",
    "    return d[1:] - d[:-1]\n",
    "\n",
    "def from_delta(d):\n",
    "    return np.concatenate([[0], np.cumsum(d)])"
   ]
  },
  {
   "cell_type": "code",
   "execution_count": null,
   "id": "10dcabc4",
   "metadata": {},
   "outputs": [],
   "source": [
    "def fractal_bpc(values, delta_times, n=0):\n",
    "    values = fractal(values, n)\n",
    "    delta_times = to_delta(fractal(from_delta(delta_times), n))\n",
    "    \n",
    "    return k.bpc_floor(values, delta_times), delta_times"
   ]
  },
  {
   "cell_type": "code",
   "execution_count": null,
   "id": "639192a6",
   "metadata": {},
   "outputs": [],
   "source": [
    "def fractal_bpc_gliss(values, delta_times, n=0):\n",
    "    values = fractal(values, n)\n",
    "    delta_times = to_delta(fractal(from_delta(delta_times), n))\n",
    "    \n",
    "    return k.bpc(values, delta_times), delta_times"
   ]
  },
  {
   "cell_type": "code",
   "execution_count": null,
   "id": "04ec321f",
   "metadata": {},
   "outputs": [],
   "source": [
    "def rescale(a, mi, ma):\n",
    "    norm = (a - np.min(a)) / (np.max(a) - np.min(a))\n",
    "    return norm * (ma - mi) + mi"
   ]
  },
  {
   "cell_type": "code",
   "execution_count": null,
   "id": "cddfc6b0",
   "metadata": {},
   "outputs": [],
   "source": [
    "dur = 16"
   ]
  },
  {
   "cell_type": "code",
   "execution_count": null,
   "id": "5af0be15",
   "metadata": {},
   "outputs": [],
   "source": [
    "seed_p = np.array((0, 0.7, 0.3, 1.0))\n",
    "seed_a = np.array((0, 0.375, 0.625, 1.))"
   ]
  },
  {
   "cell_type": "code",
   "execution_count": null,
   "id": "beb0c28b",
   "metadata": {},
   "outputs": [],
   "source": [
    "show(seed_p, seed_a)"
   ]
  },
  {
   "cell_type": "code",
   "execution_count": null,
   "id": "8349e014",
   "metadata": {},
   "outputs": [],
   "source": [
    "vln1 = Part('Vln. 1', 'violin')\n",
    "for i, dr in enumerate([2, 4, 8]):\n",
    "    seed_d = to_delta(seed_a * dr)\n",
    "    pitches, durs = fractal_bpc(seed_p, seed_d, i)\n",
    "    pitches = np.pad(pitches, (0, k.time_to_step(dr) - len(pitches)), constant_values=pitches[-1])\n",
    "    pitches = (pitches - min(pitches)) / (max(pitches) - min(pitches))\n",
    "    pitches = k.rescale(pitches, 66, 66+12)\n",
    "    pitches = k.autotune(pitches, 0.95)\n",
    "    pitches += k.sinusoid(dr, 4, 0, 0.125)\n",
    "    \n",
    "    if i < 2:\n",
    "        amp_segments = []\n",
    "        for d in durs:\n",
    "            aa = k.triangle(d, 1/d, 1e-7)\n",
    "            aa = np.pad(aa, (0, k.time_to_step(d) - len(aa)), constant_values=aa[-1])\n",
    "            amp_segments.append(aa)\n",
    "        amps = np.concatenate(amp_segments)\n",
    "        amps = np.pad(amps, (0, k.time_to_step(dr) - len(amps)), constant_values=amps[-1])\n",
    "        amps = rescale(amps, -55, -44)\n",
    "        amps += k.line_segment(dr, -12, 4)\n",
    "    else:\n",
    "        amps = k.line_segment(dr, 0, 1)\n",
    "        amps = np.pad(amps, (0, k.time_to_step(dr) - len(amps)), constant_values=amps[-1])\n",
    "        amps = rescale(amps, -59, -44)\n",
    "    \n",
    "    vln1.add_phrase(Phrase(pitches, amps))\n",
    "    \n",
    "    breathe_p = k.constant(1 + i, pitches[-1])\n",
    "    vib = k.sinusoid(1+i, 4, 0, 0.125) * (k.phasor(1+i, 1/(1+i)) ** 2)\n",
    "    breathe_p += vib\n",
    "    if i == 2:\n",
    "        breath_amp = (1 - k.phasor(1+i, 1/(1+i)))\n",
    "        breath_amp = rescale(breath_amp, -58, -46)\n",
    "        breath_amp[-1] = breath_amp[-2]\n",
    "    else:\n",
    "        breath_amp = k.line_segment(1+i, 0, 1) * 9 - 55\n",
    "    vln1.add_phrase(Phrase(breathe_p, breath_amp))"
   ]
  },
  {
   "cell_type": "code",
   "execution_count": null,
   "id": "7832e574",
   "metadata": {},
   "outputs": [],
   "source": [
    "vln1.show()\n",
    "vln1.play()"
   ]
  },
  {
   "cell_type": "code",
   "execution_count": null,
   "id": "31b07491",
   "metadata": {},
   "outputs": [],
   "source": [
    "vln2 = Part('Vln. 2', 'violin')\n",
    "for i, dr in enumerate([2, 4, 8]):\n",
    "    seed_d = to_delta(seed_a * dr)\n",
    "    pitches, durs = fractal_bpc(seed_p[::-1], np.roll(seed_d, 1), i)\n",
    "    pitches = np.pad(pitches, (0, k.time_to_step(dr) - len(pitches)), constant_values=pitches[-1])\n",
    "    pitches = (pitches - min(pitches)) / (max(pitches) - min(pitches))\n",
    "    pitches = k.rescale(pitches, 61, 61+12)\n",
    "    pitches = k.autotune(pitches, 0.95)\n",
    "    pitches += k.sinusoid(dr, 4, 0, 0.125)\n",
    "    \n",
    "    if i < 2:\n",
    "        amp_segments = []\n",
    "        for d in durs:\n",
    "            aa = k.triangle(d, 1/d, 1e-7)\n",
    "            aa = np.pad(aa, (0, k.time_to_step(d) - len(aa)), constant_values=aa[-1])\n",
    "            amp_segments.append(aa)\n",
    "        amps = np.concatenate(amp_segments)\n",
    "        amps = np.pad(amps, (0, k.time_to_step(dr) - len(amps)), constant_values=amps[-1])\n",
    "        amps = rescale(amps, -55, -44)\n",
    "        amps += k.line_segment(dr, -12, 4)\n",
    "    else:\n",
    "        amps = k.line_segment(dr, 0, 1)\n",
    "        amps = np.pad(amps, (0, k.time_to_step(dr) - len(amps)), constant_values=amps[-1])\n",
    "        amps = rescale(amps, -59, -44)\n",
    "    \n",
    "    vln2.add_phrase(Phrase(pitches, amps))\n",
    "    \n",
    "    breathe_p = k.constant(1 + i, pitches[-1])\n",
    "    vib = k.sinusoid(1+i, 4, 0, 0.125) * (k.phasor(1+i, 1/(1+i)) ** 2)\n",
    "    breathe_p += vib\n",
    "    if i == 2:\n",
    "        breath_amp = (1 - k.phasor(1+i, 1/(1+i)))\n",
    "        breath_amp = rescale(breath_amp, -58, -46)\n",
    "        breath_amp[-1] = breath_amp[-2]\n",
    "    else:\n",
    "        breath_amp = k.phasor(1+i, 1/(1+i)) * 9 - 55\n",
    "    vln2.add_phrase(Phrase(breathe_p, breath_amp))"
   ]
  },
  {
   "cell_type": "code",
   "execution_count": null,
   "id": "9bf1da30",
   "metadata": {},
   "outputs": [],
   "source": [
    "vln2.show()\n",
    "vln2.play()"
   ]
  },
  {
   "cell_type": "code",
   "execution_count": null,
   "id": "a40be809",
   "metadata": {},
   "outputs": [],
   "source": [
    "flt1 = Part('Flt. 1', 'flute')\n",
    "silence = Phrase(k.constant(17, 66), k.constant(17, -110))\n",
    "flt1.add_phrase(silence)\n",
    "for i, dr in enumerate([1, 2, 4]):\n",
    "    seed_d = to_delta(seed_a * dr)\n",
    "    pitches, durs = fractal_bpc(np.roll(seed_p, 1), np.roll(seed_d, 2), i)\n",
    "    pitches = np.pad(pitches, (0, k.time_to_step(dr) - len(pitches)), constant_values=pitches[-1])\n",
    "    pitches = (pitches - min(pitches)) / (max(pitches) - min(pitches))\n",
    "    pitches = k.rescale(pitches, 71, 71+12)\n",
    "    # pitches = k.autotune(pitches, 0.95, list(np.random.randint(0, 11, 5)))\n",
    "    pitches = k.autotune(pitches, 0.95)\n",
    "    pitches += k.sinusoid(dr, 4, 0, 0.125)\n",
    "\n",
    "    # amps = k.sinusoid(dr, 2/dr, -43.36, 5.23/2)\n",
    "    amps = np.concatenate([k.triangle(d, 1/d, 0.01) for d in durs])\n",
    "    # amps += np.random.normal(0, .5, len(amps))\n",
    "    # amps = k.to_db_loudness(amps, 'violin', min_loudness=-0.1)\n",
    "    amps = np.pad(amps, (0, k.time_to_step(dr) - len(amps)), constant_values=amps[-1])\n",
    "    amps = rescale(amps, -55, -54)\n",
    "    amps += k.line_segment(dr, 0, 6)\n",
    "    \n",
    "    flt1.add_phrase(Phrase(pitches, amps))\n",
    "    flt1.add_phrase(Phrase(pitches[::-1], amps))\n",
    "    \n",
    "    breathe_p = k.constant(1 + i, pitches[-1])\n",
    "    vib = k.sinusoid(1+i, 4, 0, 0.125) * (k.phasor(1+i, 1/(1+i)) ** 2)\n",
    "    breathe_p += vib\n",
    "    breath_amp = k.phasor(1+i, 1/(1+i)) * 9 - 55\n",
    "    flt1.add_phrase(Phrase(breathe_p, breath_amp))"
   ]
  },
  {
   "cell_type": "code",
   "execution_count": null,
   "id": "c837651e",
   "metadata": {},
   "outputs": [],
   "source": [
    "flt1.show(17)\n",
    "flt1.play(17)"
   ]
  },
  {
   "cell_type": "code",
   "execution_count": null,
   "id": "5f492ca3",
   "metadata": {},
   "outputs": [],
   "source": [
    "flt2 = Part('Flt. 2', 'flute2')\n",
    "silence = Phrase(k.constant(17, 66), k.constant(17, -110))\n",
    "flt2.add_phrase(silence)\n",
    "for i, dr in enumerate([1, 2, 4]):\n",
    "    seed_d = to_delta(seed_a * dr)\n",
    "    pitches, durs = fractal_bpc(np.roll(seed_p, 2), np.roll(seed_d, 3), i)\n",
    "    pitches = np.pad(pitches, (0, k.time_to_step(dr) - len(pitches)), constant_values=pitches[-1])\n",
    "    pitches = (pitches - min(pitches)) / (max(pitches) - min(pitches))\n",
    "    pitches = k.rescale(pitches, 66, 66+12)\n",
    "    # pitches = k.autotune(pitches, 0.95, list(np.random.randint(0, 11, 5)))\n",
    "    pitches = k.autotune(pitches, 0.95)\n",
    "    pitches += k.sinusoid(dr, 4, 0, 0.125)\n",
    "\n",
    "    # amps = k.sinusoid(dr, 2/dr, -43.36, 5.23/2)\n",
    "    amps = np.concatenate([k.triangle(d, 1/d, 0.01) for d in durs])\n",
    "    # amps += np.random.normal(0, .5, len(amps))\n",
    "    # amps = k.to_db_loudness(amps, 'violin', min_loudness=-0.1)\n",
    "    amps = np.pad(amps, (0, k.time_to_step(dr) - len(amps)), constant_values=amps[-1])\n",
    "    amps = rescale(amps, -58, -57)\n",
    "    amps += k.line_segment(dr, 0, 6)\n",
    "    \n",
    "    flt2.add_phrase(Phrase(pitches, amps))\n",
    "    flt2.add_phrase(Phrase(pitches[::-1], amps))\n",
    "    \n",
    "    breathe_p = k.constant(1 + i, pitches[-1])\n",
    "    vib = k.sinusoid(1+i, 4, 0, 0.125) * (k.phasor(1+i, 1/(1+i)) ** 2)\n",
    "    breathe_p += vib\n",
    "    breath_amp = k.phasor(1+i, 1/(1+i)) * 9 - 55\n",
    "    flt2.add_phrase(Phrase(breathe_p, breath_amp))"
   ]
  },
  {
   "cell_type": "code",
   "execution_count": null,
   "id": "728f1d16",
   "metadata": {},
   "outputs": [],
   "source": [
    "flt2.show(17)\n",
    "flt2.play(17)"
   ]
  },
  {
   "cell_type": "code",
   "execution_count": null,
   "id": "7e9189ff",
   "metadata": {},
   "outputs": [],
   "source": [
    "vlc = Part('Vlc', 'cello')\n",
    "for i, dr in enumerate([2, 4, 8]):\n",
    "    seed_d = to_delta(seed_a * dr)\n",
    "    pitches, durs = fractal_bpc(seed_p, seed_d, i)\n",
    "    pitches = np.pad(pitches, (0, k.time_to_step(dr) - len(pitches)), constant_values=pitches[-1])\n",
    "    pitches = (pitches - min(pitches)) / (max(pitches) - min(pitches))\n",
    "    pitches = k.rescale(pitches, 42, 42+12)\n",
    "    pitches = k.autotune(pitches, 0.95)\n",
    "    pitches += k.sinusoid(dr, 4, 0, 0.125)\n",
    "    \n",
    "    if i < 2:\n",
    "        amps = np.concatenate([k.triangle(d, 1/d, 0.01) for d in durs])\n",
    "        amps = np.pad(amps, (0, k.time_to_step(dr) - len(amps)), constant_values=amps[-1])\n",
    "        amps = rescale(amps, -55, -44)\n",
    "        amps += k.line_segment(dr, -12, 4)\n",
    "        amps = rescale(amps, -67, -52)\n",
    "    else:\n",
    "        amps = k.line_segment(dr, 0, 1)\n",
    "        amps = np.pad(amps, (0, k.time_to_step(dr) - len(amps)), constant_values=amps[-1])\n",
    "        amps = rescale(amps, -67, -58)\n",
    "    \n",
    "    vlc.add_phrase(Phrase(pitches, amps))\n",
    "    \n",
    "    breathe_p = k.constant(1 + i, pitches[-1])\n",
    "    vib = k.sinusoid(1+i, 4, 0, 0.125) * (k.phasor(1+i, 1/(1+i)) ** 2)\n",
    "    breathe_p += vib\n",
    "    \n",
    "    if i == 2:\n",
    "        breath_amp = (1 - k.phasor(1+i, 1/(1+i))) * 9 - 55\n",
    "        breath_amp = rescale(breath_amp, -67, -58)\n",
    "        breath_amp[-1] = breath_amp[-2]\n",
    "    else:\n",
    "        breath_amp = k.phasor(1+i, 1/(1+i)) * 9 - 55\n",
    "        breath_amp = rescale(breath_amp, -67, -58)\n",
    "\n",
    "    vlc.add_phrase(Phrase(breathe_p, breath_amp))"
   ]
  },
  {
   "cell_type": "code",
   "execution_count": null,
   "id": "d8ee00e8",
   "metadata": {},
   "outputs": [],
   "source": [
    "vlc.show()\n",
    "vlc.play()"
   ]
  },
  {
   "cell_type": "code",
   "execution_count": null,
   "id": "66c7a477",
   "metadata": {},
   "outputs": [],
   "source": [
    "vla = Part('Vla', 'viola')\n",
    "for i, dr in enumerate([2, 4, 8]):\n",
    "    seed_d = to_delta(seed_a * dr)\n",
    "    pitches, durs = fractal_bpc(seed_p[::-1], np.roll(seed_d, 1), i)\n",
    "    pitches = np.pad(pitches, (0, k.time_to_step(dr) - len(pitches)), constant_values=pitches[-1])\n",
    "    pitches = (pitches - min(pitches)) / (max(pitches) - min(pitches))\n",
    "    pitches = k.rescale(pitches, 49, 49+12)\n",
    "    # pitches = k.autotune(pitches, 0.95, list(np.random.randint(0, 11, 5)))\n",
    "    pitches = k.autotune(pitches, 0.95)\n",
    "    pitches += k.sinusoid(dr, 4, 0, 0.125)\n",
    "    \n",
    "    if i < 2:\n",
    "        # amps = k.sinusoid(dr, 2/dr, -43.36, 5.23/2)\n",
    "        amps = np.concatenate([k.triangle(d, 1/d, 0.01) for d in durs])\n",
    "        # amps += np.random.normal(0, .5, len(amps))\n",
    "        # amps = k.to_db_loudness(amps, 'violin', min_loudness=-0.1)\n",
    "        amps = np.pad(amps, (0, k.time_to_step(dr) - len(amps)), constant_values=amps[-1])\n",
    "        amps = rescale(amps, -55, -44)\n",
    "        amps += k.line_segment(dr, -12, 4)\n",
    "        amps = rescale(amps, -60, -48)\n",
    "    else:\n",
    "        amps = k.line_segment(dr, 0, 1)\n",
    "        amps = np.pad(amps, (0, k.time_to_step(dr) - len(amps)), constant_values=amps[-1])\n",
    "        amps = rescale(amps, -60, -48)\n",
    "    \n",
    "    vla.add_phrase(Phrase(pitches, amps))\n",
    "    \n",
    "    breathe_p = k.constant(1 + i, pitches[-1])\n",
    "    vib = k.sinusoid(1+i, 4, 0, 0.125) * (k.phasor(1+i, 1/(1+i)) ** 2)\n",
    "    breathe_p += vib\n",
    "    \n",
    "    if i == 2:\n",
    "        breath_amp = (1 - k.phasor(1+i, 1/(1+i))) * 9 - 55\n",
    "        breath_amp = rescale(breath_amp, -66, -47)\n",
    "        breath_amp[-1] = breath_amp[-2]\n",
    "    else:\n",
    "        breath_amp = k.phasor(1+i, 1/(1+i)) * 9 - 55\n",
    "        breath_amp = rescale(breath_amp, -55, -47)\n",
    "\n",
    "    vla.add_phrase(Phrase(breathe_p, breath_amp))"
   ]
  },
  {
   "cell_type": "code",
   "execution_count": null,
   "id": "a4c04782",
   "metadata": {},
   "outputs": [],
   "source": [
    "vla.show()\n",
    "vla.play()"
   ]
  },
  {
   "cell_type": "code",
   "execution_count": null,
   "id": "06297e1c",
   "metadata": {},
   "outputs": [],
   "source": [
    "# silence, self, retro, chord, self, retro, chord\n",
    "# skip slience, first self, first retro\n",
    "_, idx = np.unique(flt1.phrases[4].pitch.round(), return_index=True)\n",
    "chord = flt1.phrases[4].pitch.round()[np.sort(idx)]\n",
    "for idx, f in enumerate(flt1.phrases[4:]):\n",
    "    dur = len(f) / k.SECOND\n",
    "    pitches = k.constant(dur, chord[(2*idx)%len(chord)])\n",
    "    attack = k.triangle(dur, 1/dur, ratio=0.01)\n",
    "#     silence = k.constant(dur/2, 0)\n",
    "#     amps = np.concatenate([attack, silence])\n",
    "    amps = rescale(attack, -90, -38)\n",
    "    \n",
    "    phrase = Phrase(pitches, amps)\n",
    "    vln1.add_phrase(phrase)"
   ]
  },
  {
   "cell_type": "code",
   "execution_count": null,
   "id": "1fc8ecea",
   "metadata": {},
   "outputs": [],
   "source": [
    "vln1.show()\n",
    "vln1.play()"
   ]
  },
  {
   "cell_type": "code",
   "execution_count": null,
   "id": "4465e355",
   "metadata": {},
   "outputs": [],
   "source": [
    "# silence, self, retro, chord, self, retro, chord\n",
    "# skip slience, first self, first retro\n",
    "_, idx = np.unique(flt1.phrases[4].pitch.round(), return_index=True)\n",
    "chord = flt1.phrases[4].pitch.round()[np.sort(idx)]\n",
    "for idx, f in enumerate(flt1.phrases[4:]):\n",
    "    dur = len(f) / k.SECOND\n",
    "    pitches = k.constant(dur, chord[(3*idx + 1)%len(chord)])\n",
    "    attack = k.triangle(dur, 1/dur, ratio=0.01)\n",
    "#     silence = k.constant(dur/2, 0)\n",
    "#     amps = np.concatenate([attack, silence])\n",
    "    amps = rescale(attack, -90, -38)\n",
    "    \n",
    "    phrase = Phrase(pitches, amps)\n",
    "    vln2.add_phrase(phrase)"
   ]
  },
  {
   "cell_type": "code",
   "execution_count": null,
   "id": "70910867",
   "metadata": {},
   "outputs": [],
   "source": [
    "vln2.show()\n",
    "vln2.play()"
   ]
  },
  {
   "cell_type": "code",
   "execution_count": null,
   "id": "ea1449bf",
   "metadata": {},
   "outputs": [],
   "source": [
    "# silence, self, retro, chord, self, retro, chord\n",
    "# skip slience, first self, first retro\n",
    "_, idx = np.unique(flt1.phrases[4].pitch.round(), return_index=True)\n",
    "chord = flt1.phrases[4].pitch.round()[np.sort(idx)]\n",
    "for idx, f in enumerate(flt1.phrases[4:]):\n",
    "    dur = len(f) / k.SECOND\n",
    "    pitches = k.constant(dur, chord[(5*idx + 2)%len(chord)] - 12)\n",
    "    attack = k.triangle(dur, 1/dur, ratio=0.01)\n",
    "#     silence = k.constant(dur/2, 0)\n",
    "#     amps = np.concatenate([attack, silence])\n",
    "    amps = rescale(attack, -90, -38)\n",
    "    \n",
    "    phrase = Phrase(pitches, amps)\n",
    "    vla.add_phrase(phrase)"
   ]
  },
  {
   "cell_type": "code",
   "execution_count": null,
   "id": "1b9ae409",
   "metadata": {},
   "outputs": [],
   "source": [
    "vla.show()\n",
    "vla.play()"
   ]
  },
  {
   "cell_type": "code",
   "execution_count": null,
   "id": "364bbdcd",
   "metadata": {},
   "outputs": [],
   "source": [
    "# silence, self, retro, chord, self, retro, chord\n",
    "# skip slience, first self, first retro\n",
    "_, idx = np.unique(flt1.phrases[4].pitch.round(), return_index=True)\n",
    "chord = flt1.phrases[4].pitch.round()[np.sort(idx)]\n",
    "for idx, f in enumerate(flt1.phrases[4:]):\n",
    "    dur = len(f) / k.SECOND\n",
    "    pitches = k.constant(dur, chord[(3*idx + 3)%len(chord)] - 24)\n",
    "    attack = k.triangle(dur, 1/dur, ratio=0.01)\n",
    "#     silence = k.constant(dur/2, 0)\n",
    "#     amps = np.concatenate([attack, silence])\n",
    "    amps = rescale(attack, -90, -38)\n",
    "    \n",
    "    phrase = Phrase(pitches, amps)\n",
    "    vlc.add_phrase(phrase)"
   ]
  },
  {
   "cell_type": "code",
   "execution_count": null,
   "id": "cf80d372",
   "metadata": {},
   "outputs": [],
   "source": [
    "vlc.show()\n",
    "vlc.play()"
   ]
  },
  {
   "cell_type": "code",
   "execution_count": null,
   "id": "18f14a96",
   "metadata": {},
   "outputs": [],
   "source": [
    "score = Score([vln1, vln2, vla, vlc, flt1, flt2])\n",
    "# score.show()\n",
    "# score.play()"
   ]
  },
  {
   "cell_type": "code",
   "execution_count": null,
   "id": "883fdd70",
   "metadata": {},
   "outputs": [],
   "source": [
    "score.save('fractus-duo', './audio-data/december/')"
   ]
  },
  {
   "cell_type": "code",
   "execution_count": null,
   "id": "2d18a501",
   "metadata": {},
   "outputs": [],
   "source": []
  }
 ],
 "metadata": {
  "kernelspec": {
   "display_name": "Python 3 (ipykernel)",
   "language": "python",
   "name": "python3"
  },
  "language_info": {
   "codemirror_mode": {
    "name": "ipython",
    "version": 3
   },
   "file_extension": ".py",
   "mimetype": "text/x-python",
   "name": "python",
   "nbconvert_exporter": "python",
   "pygments_lexer": "ipython3",
   "version": "3.9.9"
  }
 },
 "nbformat": 4,
 "nbformat_minor": 5
}
