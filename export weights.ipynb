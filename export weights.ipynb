{
 "cells": [
  {
   "cell_type": "code",
   "execution_count": 45,
   "id": "f3c59e26",
   "metadata": {},
   "outputs": [],
   "source": [
    "import os\n",
    "from collections import OrderedDict\n",
    "import pickle\n",
    "\n",
    "import ddsp.training\n",
    "import gin\n",
    "import tensorflow as tf"
   ]
  },
  {
   "cell_type": "code",
   "execution_count": 43,
   "id": "239944ba",
   "metadata": {},
   "outputs": [],
   "source": [
    "def save_weights(instrument):\n",
    "    af = {\n",
    "        'f0_hz': tf.ones((1, 1000, 1)),\n",
    "        'loudness_db': tf.ones((1, 1000, 1))\n",
    "    }\n",
    "    \n",
    "    # Pretrained models.\n",
    "    model_dir = f'pretrained/{instrument.lower()}'\n",
    "\n",
    "    gin_file = os.path.join(model_dir, 'operative_config-0.gin')\n",
    "\n",
    "    # Parse gin config,\n",
    "    with gin.unlock_config():\n",
    "        gin.parse_config_file(gin_file, skip_unknown=True)\n",
    "\n",
    "    # Assumes only one checkpoint in the folder, 'ckpt-[iter]`.\n",
    "    ckpt_files = [f for f in os.listdir(model_dir) if 'ckpt' in f]\n",
    "    ckpt_name = ckpt_files[0].split('.')[0]\n",
    "    ckpt = os.path.join(model_dir, ckpt_name)\n",
    "\n",
    "    # Ensure dimensions and sampling rates are equal\n",
    "    time_steps_train = gin.query_parameter('F0LoudnessPreprocessor.time_steps')\n",
    "    n_samples_train = gin.query_parameter('Harmonic.n_samples')\n",
    "    hop_size = int(n_samples_train / time_steps_train)\n",
    "\n",
    "    time_steps = 1000\n",
    "    n_samples = time_steps * hop_size\n",
    "\n",
    "    gin_params = [\n",
    "        'Harmonic.n_samples = {}'.format(n_samples),\n",
    "        'FilteredNoise.n_samples = {}'.format(n_samples),\n",
    "        'F0LoudnessPreprocessor.time_steps = {}'.format(time_steps),\n",
    "        'oscillator_bank.use_angular_cumsum = True',  # Avoids cumsum accumulation errors.\n",
    "    ]\n",
    "\n",
    "    with gin.unlock_config():\n",
    "        gin.parse_config(gin_params)\n",
    "\n",
    "    # Set up the model just to predict audio given new conditioning\n",
    "    instrument = ddsp.training.models.Autoencoder()\n",
    "    instrument.restore(ckpt)\n",
    "    \n",
    "    outputs = instrument(af, training=False)\n",
    "    \n",
    "    variables = OrderedDict()\n",
    "\n",
    "    for item in instrument.trainable_variables:\n",
    "        variables[item.name] = item.value().numpy()\n",
    "    \n",
    "    pickle.dump(variables, open('violin.pkl', 'wb'))"
   ]
  },
  {
   "cell_type": "code",
   "execution_count": 44,
   "id": "9eb05e8d",
   "metadata": {},
   "outputs": [],
   "source": [
    "inst = save_weights('violin')"
   ]
  },
  {
   "cell_type": "code",
   "execution_count": null,
   "id": "3c9671d8",
   "metadata": {},
   "outputs": [],
   "source": []
  }
 ],
 "metadata": {
  "kernelspec": {
   "display_name": "Python 3 (ipykernel)",
   "language": "python",
   "name": "python3"
  },
  "language_info": {
   "codemirror_mode": {
    "name": "ipython",
    "version": 3
   },
   "file_extension": ".py",
   "mimetype": "text/x-python",
   "name": "python",
   "nbconvert_exporter": "python",
   "pygments_lexer": "ipython3",
   "version": "3.8.10"
  }
 },
 "nbformat": 4,
 "nbformat_minor": 5
}
