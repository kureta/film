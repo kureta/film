{
 "cells": [
  {
   "cell_type": "code",
   "execution_count": null,
   "metadata": {},
   "outputs": [],
   "source": [
    "import matplotlib.pyplot as plt"
   ]
  },
  {
   "cell_type": "code",
   "execution_count": null,
   "metadata": {},
   "outputs": [],
   "source": [
    "import os\n",
    "os.environ['TF_CPP_MIN_LOG_LEVEL'] = '3'  # or any {'0', '1', '2'}\n",
    "import tensorflow as tf\n",
    "tf.get_logger().setLevel('ERROR')"
   ]
  },
  {
   "cell_type": "code",
   "execution_count": null,
   "metadata": {},
   "outputs": [],
   "source": [
    "import numpy as np\n",
    "import librosa\n",
    "\n",
    "from composition.instrument import Score, Part, Phrase, show\n",
    "import composition.common as k\n",
    "from utils import QuantileTransformer"
   ]
  },
  {
   "cell_type": "code",
   "execution_count": null,
   "metadata": {},
   "outputs": [],
   "source": [
    "higher_harms = k.harmonics_to_pitches(36, [2, 11, 13, 15, 17, 19, 21, 23, 25, 27])[1:]"
   ]
  },
  {
   "cell_type": "code",
   "execution_count": null,
   "metadata": {},
   "outputs": [],
   "source": [
    "stretched_higher_harms = k.harmonics_to_pitches(36, [n ** 1.02 for n in [2, 11, 13, 15, 17, 19, 21, 23, 25, 27]])[1:]"
   ]
  },
  {
   "cell_type": "code",
   "execution_count": null,
   "metadata": {},
   "outputs": [],
   "source": [
    "p1, p2 = higher_harms[1], stretched_higher_harms[1]\n",
    "\n",
    "pitch = np.concatenate([\n",
    "    k.constant(2, p1) + k.sinusoid(2, 2, amp=k.line_segment(2, 0.3, 0), phase=np.random.uniform(0, 1)),\n",
    "    k.line_segment(3, p1, p2),\n",
    "    k.constant(1, p2) + np.concatenate([\n",
    "        k.sinusoid(0.5, 2, amp=k.line_segment(0.5, 0, 0.3), phase=np.random.uniform(0, 1)),\n",
    "        k.sinusoid(0.5, 2, amp=k.line_segment(0.5, 0.3, 0), phase=np.random.uniform(0, 1))\n",
    "    ]),\n",
    "    k.line_segment(2, p2, p1),\n",
    "    k.constant(3, p1) + np.concatenate([\n",
    "        k.sinusoid(3/2, 2, amp=k.line_segment(3/2, 0, 0.3), phase=np.random.uniform(0, 1)),\n",
    "        k.sinusoid(3-3/2, 2, amp=k.line_segment(3-3/2, 0.3, 0), phase=np.random.uniform(0, 1))\n",
    "    ]),\n",
    "    k.line_segment(3, p1, p2),\n",
    "    k.constant(2, p2) + np.concatenate([\n",
    "        k.sinusoid(1, 2, amp=k.line_segment(1, 0, 0.3), phase=np.random.uniform(0, 1)),\n",
    "        k.sinusoid(1, 2, amp=k.line_segment(1, 0.3, 0), phase=np.random.uniform(0, 1))\n",
    "    ]),\n",
    "    k.line_segment(4, p2, p1),\n",
    "    k.constant(2, p1) + k.sinusoid(2, 2, amp=k.line_segment(2, 0, 0.3), phase=np.random.uniform(0, 1)),\n",
    "])\n",
    "\n",
    "pitch[:2*k.SECOND] += k.sinusoid(2, 2, amp=k.line_segment(2, 0.3, 0), phase=np.random.uniform(0, 1))\n",
    "pitch[-2*k.SECOND:] += k.sinusoid(2, 2, amp=k.line_segment(2, 0, 0.3), phase=np.random.uniform(0, 1))\n",
    "\n",
    "loudness = np.concatenate([\n",
    "    k.constant(2, 0.0),\n",
    "    k.line_segment(6, 0.0, 0.2),\n",
    "    k.line_segment(6, 0.2, 0.05),\n",
    "    k.line_segment(6, 0.05, 0.9),\n",
    "    k.line_segment(1, 0.9, 0.),\n",
    "    k.constant(1, 0.)\n",
    "])\n",
    "loudness *= 10.\n",
    "loudness += k.sweeping_triangle(22, 0.1, 4, 0.1, highest=8, lowest=-10)\n",
    "loudness += np.random.randn(*loudness.shape) * 0.3\n",
    "loudness += k.line_segment(22, 10, 0)\n",
    "\n",
    "loudness[:k.SECOND//10] = k.line_segment(1/10, loudness.min(), loudness[-k.SECOND//10])\n",
    "loudness[-k.SECOND//10:] = k.line_segment(1/10, loudness[k.SECOND//10], loudness.min())\n",
    "\n",
    "loudness = loudness.clip(min=2.)\n",
    "loudness = k.to_db_loudness(loudness, 'violin', 8, 0.)\n",
    "\n",
    "phrase = Phrase(pitch, loudness)\n",
    "\n",
    "vln1 = Part('Vln. I', 'violin')\n",
    "vln1.add_phrase(phrase)\n",
    "\n",
    "vln1.show()\n",
    "vln1.play()"
   ]
  },
  {
   "cell_type": "code",
   "execution_count": null,
   "metadata": {},
   "outputs": [],
   "source": [
    "p1, p2 = higher_harms[2], stretched_higher_harms[2]\n",
    "\n",
    "pitch = np.concatenate([\n",
    "    k.constant(2, p1) + k.sinusoid(2, 2, amp=k.line_segment(2, 0.3, 0), phase=np.random.uniform(0, 1)),\n",
    "    k.line_segment(3, p1, p2),\n",
    "    k.constant(1, p2) + np.concatenate([\n",
    "        k.sinusoid(0.5, 2, amp=k.line_segment(0.5, 0, 0.3), phase=np.random.uniform(0, 1)),\n",
    "        k.sinusoid(0.5, 2, amp=k.line_segment(0.5, 0.3, 0), phase=np.random.uniform(0, 1))\n",
    "    ]),\n",
    "    k.line_segment(2, p2, p1),\n",
    "    k.constant(3, p1) + np.concatenate([\n",
    "        k.sinusoid(3/2, 2, amp=k.line_segment(3/2, 0, 0.3), phase=np.random.uniform(0, 1)),\n",
    "        k.sinusoid(3-3/2, 2, amp=k.line_segment(3-3/2, 0.3, 0), phase=np.random.uniform(0, 1))\n",
    "    ]),\n",
    "    k.line_segment(3, p1, p2),\n",
    "    k.constant(2, p2) + np.concatenate([\n",
    "        k.sinusoid(1, 2, amp=k.line_segment(1, 0, 0.3), phase=np.random.uniform(0, 1)),\n",
    "        k.sinusoid(1, 2, amp=k.line_segment(1, 0.3, 0), phase=np.random.uniform(0, 1))\n",
    "    ]),\n",
    "    k.line_segment(4, p2, p1),\n",
    "    k.constant(2, p1) + k.sinusoid(2, 2, amp=k.line_segment(2, 0, 0.3), phase=np.random.uniform(0, 1)),\n",
    "])\n",
    "\n",
    "loudness = np.concatenate([\n",
    "    k.constant(2, 0.01),\n",
    "    k.line_segment(6, 0.01, 0.2),\n",
    "    k.line_segment(6, 0.2, 0.05),\n",
    "    k.line_segment(6, 0.05, 0.9),\n",
    "    k.constant(2, 0.9)\n",
    "])\n",
    "loudness *= 10.\n",
    "loudness += k.sweeping_triangle(22, 0.15, 3.75, 0.1, highest=8, phase=0.25)\n",
    "loudness += np.random.randn(*loudness.shape) * 0.3\n",
    "\n",
    "loudness[:k.SECOND//10] = k.line_segment(1/10, 0, loudness[-k.SECOND//10])\n",
    "loudness[-k.SECOND//10:] = k.line_segment(1/10, loudness[k.SECOND//10], 0)\n",
    "\n",
    "loudness = k.to_db_loudness(loudness, 'violin', -6, 0.)\n",
    "\n",
    "phrase = Phrase(pitch, loudness)\n",
    "\n",
    "vln2 = Part('Vln. II', 'violin')\n",
    "vln2.add_phrase(phrase)\n",
    "\n",
    "# pitch = constant(2, stretched_higher_harms[-1])\n",
    "# pitch += sinusoid(2, 3, amp=0.15)\n",
    "# loudness = line_segment(2, 0, 1)\n",
    "# loudness[-SECOND//10:] = line_segment(1/10, loudness[-SECOND//10], 0)\n",
    "# phrase = Phrase(pitch, loudness)\n",
    "# vln2.add_phrase(phrase)\n",
    "\n",
    "vln2.show()\n",
    "vln2.play()"
   ]
  },
  {
   "cell_type": "code",
   "execution_count": null,
   "metadata": {},
   "outputs": [],
   "source": [
    "from IPython.display import Audio"
   ]
  },
  {
   "cell_type": "code",
   "execution_count": null,
   "metadata": {},
   "outputs": [],
   "source": [
    "Audio(data=np.random.randn(1, 16000*3) * 0.2, rate=16000)"
   ]
  },
  {
   "cell_type": "code",
   "execution_count": null,
   "metadata": {},
   "outputs": [],
   "source": [
    "p1, p2 = higher_harms[0], stretched_higher_harms[0]\n",
    "\n",
    "pitch = np.concatenate([\n",
    "    k.constant(2, p1) + k.sinusoid(2, 2, amp=k.line_segment(2, 0.3, 0), phase=np.random.uniform(0, 1)),\n",
    "    k.line_segment(3, p1, p2),\n",
    "    k.constant(1, p2) + np.concatenate([\n",
    "        k.sinusoid(0.5, 2, amp=k.line_segment(0.5, 0, 0.3), phase=np.random.uniform(0, 1)),\n",
    "        k.sinusoid(0.5, 2, amp=k.line_segment(0.5, 0.3, 0), phase=np.random.uniform(0, 1))\n",
    "    ]),\n",
    "    k.line_segment(2, p2, p1),\n",
    "    k.constant(3, p1) + np.concatenate([\n",
    "        k.sinusoid(3/2, 2, amp=k.line_segment(3/2, 0, 0.3), phase=np.random.uniform(0, 1)),\n",
    "        k.sinusoid(3-3/2, 2, amp=k.line_segment(3-3/2, 0.3, 0), phase=np.random.uniform(0, 1))\n",
    "    ]),\n",
    "    k.line_segment(3, p1, p2),\n",
    "    k.constant(2, p2) + np.concatenate([\n",
    "        k.sinusoid(1, 2, amp=k.line_segment(1, 0, 0.3), phase=np.random.uniform(0, 1)),\n",
    "        k.sinusoid(1, 2, amp=k.line_segment(1, 0.3, 0), phase=np.random.uniform(0, 1))\n",
    "    ]),\n",
    "    k.line_segment(4, p2, p1),\n",
    "    k.constant(2, p1) + k.sinusoid(2, 2, amp=k.line_segment(2, 0, 0.3), phase=np.random.uniform(0, 1)),\n",
    "])\n",
    "\n",
    "loudness = np.concatenate([\n",
    "    k.constant(2, 0.01),\n",
    "    k.line_segment(6, 0.01, 0.2),\n",
    "    k.line_segment(6, 0.2, 0.05),\n",
    "    k.line_segment(6, 0.05, 0.9),\n",
    "    k.constant(2, 0.9)\n",
    "])\n",
    "loudness *= 10.\n",
    "loudness += k.sweeping_triangle(22, 0.05, 4.25, 0.1, highest=8, phase=0.5)\n",
    "loudness += np.random.randn(*loudness.shape) * 0.05\n",
    "\n",
    "loudness[:k.SECOND//10] = k.line_segment(1/10, 0, loudness[-k.SECOND//10])\n",
    "loudness[-k.SECOND//10:] = k.line_segment(1/10, loudness[k.SECOND//10], 0)\n",
    "\n",
    "loudness = k.to_db_loudness(loudness, 'viola', -2, 0.)\n",
    "\n",
    "phrase = Phrase(pitch, loudness)\n",
    "\n",
    "vla = Part('Vla', 'viola')\n",
    "vla.add_phrase(phrase)\n",
    "\n",
    "\n",
    "# pitch = constant(2, stretched_higher_harms[-5])\n",
    "# pitch += sinusoid(2, 3, amp=0.15)\n",
    "# loudness = line_segment(2, 0, 1)\n",
    "# loudness[-SECOND//10:] = line_segment(1/10, loudness[-SECOND//10], 0)\n",
    "# phrase = Phrase(pitch, loudness)\n",
    "# vla.add_phrase(phrase, 6)\n",
    "\n",
    "vla.show()\n",
    "vla.play()"
   ]
  },
  {
   "cell_type": "code",
   "execution_count": null,
   "metadata": {},
   "outputs": [],
   "source": [
    "pitch = k.constant(22, 36)\n",
    "\n",
    "loudness = k.line_segment(22, 0.01, 200)\n",
    "loudness += k.sweeping_triangle(22, 0.2, 4, ratio=0.1, lowest=0, highest=75)\n",
    "loudness[-4*k.SECOND:] = k.line_segment(4, 1, 0)**2 * 50\n",
    "loudness[-k.SECOND//10:] = k.line_segment(1/10, loudness[-k.SECOND//10], 0)\n",
    "loudness[:k.SECOND//10] = k.line_segment(1/10, 0, loudness[k.SECOND//10])\n",
    "\n",
    "loudness = k.to_db_loudness(loudness, 'cello')\n",
    "\n",
    "phrase = Phrase(pitch, loudness)\n",
    "vlc = Part('Vlc.', 'cello')\n",
    "vlc.add_phrase(phrase)\n",
    "\n",
    "pitch = k.constant(2, 36+12)\n",
    "pitch += k.sinusoid(2, 3, amp=0.15)\n",
    "loudness = k.line_segment(2, 0, 1)\n",
    "loudness[-k.SECOND//10:] = k.line_segment(1/10, loudness[-k.SECOND//10], 0)\n",
    "\n",
    "loudness = k.to_db_loudness(loudness, 'cello')\n",
    "\n",
    "phrase = Phrase(pitch, loudness)\n",
    "vlc.add_phrase(phrase)\n",
    "\n",
    "vlc.show()\n",
    "vlc.play()"
   ]
  },
  {
   "cell_type": "code",
   "execution_count": null,
   "metadata": {},
   "outputs": [],
   "source": [
    "ps = np.array(higher_harms[-9:-4])\n",
    "\n",
    "phi = (np.sqrt(5) + 1) / 2\n",
    "amp = (ps[-1] - ps[0]) / 2\n",
    "center = ps[0] + amp\n",
    "\n",
    "pitch = k.sinusoid(22, 1/2, center, amp / 3)\n",
    "pitch += k.sinusoid(22, 1/3, 0, amp / 3)\n",
    "pitch += k.sinusoid(22, 1/5, 0, amp / 3)\n",
    "pitch = k.autotune_explicit(pitch, 0.9, ps)\n",
    "\n",
    "loudness = k.bpc([0, 1, 0.5, 0.75, 0.], [6, 12, 2, 2])\n",
    "loudness += k.sweeping_triangle(22, 0.1, 0.5, 0.5, lowest = 0.2)\n",
    "loudness[-k.SECOND//10:] = k.line_segment(1/10, loudness[-k.SECOND//10], 0)\n",
    "loudness[:k.SECOND//10] = k.line_segment(1/10, 0, loudness[1*k.SECOND//10])\n",
    "\n",
    "loudness = k.to_db_loudness(loudness, 'flute2')\n",
    "\n",
    "phrase = Phrase(pitch, loudness)\n",
    "flute2 = Part('Flute II', 'flute2')\n",
    "flute2.add_phrase(phrase)\n",
    "\n",
    "\n",
    "pitch = k.constant(2, stretched_higher_harms[-6])\n",
    "pitch += k.sinusoid(2, 3, amp=0.15)\n",
    "loudness = k.line_segment(2, 0, 1)\n",
    "loudness[-k.SECOND//10:] = k.line_segment(1/10, loudness[-k.SECOND//10], 0)\n",
    "\n",
    "loudness = k.to_db_loudness(loudness, 'flute2')\n",
    "\n",
    "phrase = Phrase(pitch, loudness)\n",
    "flute2.add_phrase(phrase)\n",
    "\n",
    "\n",
    "flute2.show()\n",
    "flute2.play()"
   ]
  },
  {
   "cell_type": "code",
   "execution_count": null,
   "metadata": {},
   "outputs": [],
   "source": [
    "ps = np.array(higher_harms[-5:])\n",
    "\n",
    "amp = (ps[-1] - ps[0]) / 2\n",
    "center = ps[0] + amp\n",
    "\n",
    "pitch = k.sinusoid(22, (1/2)*phi, center, amp / 3)\n",
    "pitch += k.sinusoid(22, (1/3)*phi, 0, amp / 3)\n",
    "pitch += k.sinusoid(22, (1/5)*phi, 0, amp / 3)\n",
    "pitch = k.autotune_explicit(pitch, 0.9, ps)\n",
    "\n",
    "loudness = k.bpc([0, 2, 1, 1.5, 0.], [6, 12, 2, 2])\n",
    "\n",
    "loudness = k.to_db_loudness(loudness, 'flute')\n",
    "\n",
    "phrase = Phrase(pitch, loudness)\n",
    "flute = Part('Flute I', 'flute')\n",
    "flute.add_phrase(phrase)\n",
    "\n",
    "pitch = k.constant(2, stretched_higher_harms[-2])\n",
    "pitch += k.sinusoid(2, 3, amp=0.15)\n",
    "loudness = k.line_segment(2, 0, 1)\n",
    "loudness[-k.SECOND//10:] = k.line_segment(1/10, loudness[-k.SECOND//10], 0)\n",
    "\n",
    "loudness = k.to_db_loudness(loudness, 'flute')\n",
    "\n",
    "phrase = Phrase(pitch, loudness)\n",
    "flute.add_phrase(phrase)\n",
    "\n",
    "flute.show()\n",
    "flute.play()"
   ]
  },
  {
   "cell_type": "code",
   "execution_count": null,
   "metadata": {},
   "outputs": [],
   "source": [
    "score = Score([vln1, vln2, vla, vlc, flute2, flute])"
   ]
  },
  {
   "cell_type": "code",
   "execution_count": null,
   "metadata": {},
   "outputs": [],
   "source": [
    "score.save('old-film', './audio-data/december/')"
   ]
  },
  {
   "cell_type": "markdown",
   "metadata": {},
   "source": [
    "* violin: mean: -43.36, std: 5.23\n",
    "* viola: mean: -42.76, std: 7.77\n",
    "* cello: mean: -57.26, std: 6.12\n",
    "* flute: mean: -55.27, std: 8.37\n",
    "* flute2: mean: -55.27, std: 8.37"
   ]
  },
  {
   "cell_type": "markdown",
   "metadata": {},
   "source": [
    "- Violin 55-103\n",
    "- Viola 48-91\n",
    "- Cello 36-76\n",
    "- Flute 60-96\n",
    "- Flute2 55-91"
   ]
  },
  {
   "cell_type": "code",
   "execution_count": null,
   "metadata": {},
   "outputs": [],
   "source": [
    "duration = 14\n",
    "padding = constant(2, 1)\n",
    "phi = (np.sqrt(5) + 1) / 2\n",
    "\n",
    "# loudness = triangle(duration, 2, 0.25)\n",
    "# loudness += line_segment(duration, 0, 2)\n",
    "loudness = adsr(4, 4, 2, 4, 1, 0.5)\n",
    "loudness = np.concatenate([padding * 0, loudness, padding * 0]) * 4\n",
    "\n",
    "# pitch = line_segment(duration, 55, 80)\n",
    "# pitch = sweeping_sinusoid(duration, 0.05, 2, 55, np.linspace(8, 0, int(duration*SECOND)), -0.25)\n",
    "pitch= triangle(duration, 1/duration, 0.5, lowest=55, highest=80)\n",
    "\n",
    "# intervals = [3, 7, 4, 8, 5, 9]\n",
    "# scale = scale_from_intervals(intervals)\n",
    "harmonics = [5, 10, 15, 20, 25]\n",
    "intervals = harmonics_to_cents(harmonics)\n",
    "scale= scale_from_intervals(intervals)\n",
    "scale = (scale - 55) % 120\n",
    "\n",
    "pitch = autotune_explicit(pitch, 0.5, scale)\n",
    "\n",
    "modulation = np.concatenate([\n",
    "    sweeping_sinusoid(duration / 2, 1, 6, 0, 0.15),\n",
    "    sweeping_sinusoid(duration / 2, 6, 0.1, 0, 0.15)\n",
    "])\n",
    "pitch += modulation\n",
    "\n",
    "pitch = np.concatenate([padding * pitch[0], pitch, padding * pitch[-1]])\n",
    "\n",
    "show(pitch, loudness)"
   ]
  },
  {
   "cell_type": "code",
   "execution_count": null,
   "metadata": {},
   "outputs": [],
   "source": [
    "part = make_part('violin', pitch, loudness, -12)\n",
    "audio = generate_audio(**part)\n",
    "Audio(audio, rate=16000)"
   ]
  },
  {
   "cell_type": "code",
   "execution_count": null,
   "metadata": {},
   "outputs": [],
   "source": [
    "def my_mother(duration_range=(0.1, 0.2), repeats=100):\n",
    "    envelopes = []\n",
    "    for i in range(repeats):\n",
    "        duration = np.random.uniform(*duration_range)\n",
    "        bp = np.random.uniform(0, duration, 4)\n",
    "        pv = np.random.uniform(0.1, 2, 2)\n",
    "        bp.sort()\n",
    "        pv.sort()\n",
    "        envelopes.append(adsr(bp[0], bp[1], bp[2], bp[3], pv[1], pv[0]))\n",
    "        # envelopes.append(triangle(duration, 1/duration, highest=np.random.uniform(0.1, 2)))\n",
    "\n",
    "    loudness = np.concatenate(envelopes)\n",
    "    duration = len(loudness) / SECOND\n",
    "\n",
    "    pitch = line_segment(duration, 40, 45)\n",
    "#     pitch = np.concatenate([\n",
    "#         constant(duration / 10, random.choice(pitches)) for _ in range(10)\n",
    "#     ])\n",
    "    pitch = np.concatenate([pitch, np.ones(len(loudness) - len(pitch)) * pitch[-1]])\n",
    "    pitch = autotune(pitch, 0.5)\n",
    "    pitch += sinusoid(duration, 4, 0, 0.15)\n",
    "\n",
    "    loudness = pad(loudness, 2)\n",
    "    pitch = pad(pitch, 2)\n",
    "    \n",
    "    return pitch, loudness"
   ]
  },
  {
   "cell_type": "code",
   "execution_count": null,
   "metadata": {},
   "outputs": [],
   "source": [
    "pitch, loudness = my_mother((0.5, 1.5), 13)\n",
    "show(pitch, loudness)\n",
    "intervals"
   ]
  },
  {
   "cell_type": "code",
   "execution_count": null,
   "metadata": {},
   "outputs": [],
   "source": [
    "part = make_part('cello', pitch, loudness, -2)\n",
    "audio = generate_audio(**part)\n",
    "Audio(audio, rate=16000)"
   ]
  },
  {
   "cell_type": "code",
   "execution_count": null,
   "metadata": {},
   "outputs": [],
   "source": [
    "parts = []"
   ]
  },
  {
   "cell_type": "code",
   "execution_count": null,
   "metadata": {},
   "outputs": [],
   "source": [
    "parts.append(part)"
   ]
  },
  {
   "cell_type": "code",
   "execution_count": null,
   "metadata": {},
   "outputs": [],
   "source": [
    "audios = []\n",
    "for part in parts:\n",
    "    audios.append(generate_audio(**part))\n",
    "\n",
    "result = np.zeros(max([len(a) for a in audios]))\n",
    "for audio in audios:\n",
    "    result[:len(audio)] += audio"
   ]
  },
  {
   "cell_type": "code",
   "execution_count": null,
   "metadata": {},
   "outputs": [],
   "source": [
    "Audio(result, rate=16000)"
   ]
  },
  {
   "cell_type": "code",
   "execution_count": null,
   "metadata": {},
   "outputs": [],
   "source": [
    "harmonics = [8,9,10,11,12,13,14,15,16]"
   ]
  },
  {
   "cell_type": "code",
   "execution_count": null,
   "metadata": {},
   "outputs": [],
   "source": [
    "harmonics_to_cents(harmonics)"
   ]
  },
  {
   "cell_type": "code",
   "execution_count": null,
   "metadata": {},
   "outputs": [],
   "source": [
    "harmonics = [1, 7/4, 3/2, 13/8, 27/16, 11/4]\n",
    "random.shuffle(harmonics)\n",
    "base_midi = 70\n",
    "base_hz = librosa.midi_to_hz(base_midi)\n",
    "freqs = [h * base_hz for h in harmonics]\n",
    "cents = [librosa.hz_to_midi(f) for f in freqs]\n",
    "gliss_time = 0.1\n",
    "sus_time = 3\n",
    "time = gliss_time + sus_time\n",
    "\n",
    "dur = len(harmonics) * time\n",
    "\n",
    "pitches = []\n",
    "pitches.append(constant(time, cents[0]))\n",
    "for a, b in zip(cents[:-1], cents[1:]):\n",
    "    pitches.append(line_segment(gliss_time, a, b))\n",
    "    pitches.append(constant(sus_time, b))\n",
    "\n",
    "pitches = np.concatenate(pitches)\n",
    "pitches += sinusoid(dur, 4, 0, 0.15)\n",
    "\n",
    "loudnesses = []\n",
    "loudness = triangle(dur, 2/time, highest=line_segment(dur, 4, 1))\n",
    "loudnesses.append(loudness)\n",
    "\n",
    "loudness = np.concatenate(loudnesses)\n",
    "loudness = np.concatenate([loudness, np.zeros(len(pitches) - len(loudness))])\n",
    "\n",
    "pitches = pad(pitches, 2)\n",
    "loudness = pad(loudness, 2)\n",
    "\n",
    "audio = generate_audio('flute', pitches, loudness, db_offset=-12)\n",
    "Audio(audio, rate=16000)"
   ]
  },
  {
   "cell_type": "code",
   "execution_count": null,
   "metadata": {},
   "outputs": [],
   "source": [
    "show(pitches, loudness)"
   ]
  },
  {
   "cell_type": "code",
   "execution_count": null,
   "metadata": {},
   "outputs": [],
   "source": [
    "initial = 36+7\n",
    "dur = 12\n",
    "instruments = ['cello', 'viola', 'violin', 'flute2', 'flute']\n",
    "\n",
    "pitches = harmonics_to_pitches(initial, [3, 5])\n",
    "\n",
    "parts = []\n",
    "for pitch, instrument in zip(pitches, instruments[:2]):\n",
    "    env = random_adsr(dur) * 10\n",
    "    pitch = constant(dur, pitch)\n",
    "    pitch += sinusoid(dur, np.random.uniform(3, 5), amp=0.15, phase=np.random.uniform(1.))\n",
    "    \n",
    "    env = pad(env, 2)\n",
    "    pitch = pad(pitch, 2)\n",
    "    audio = generate_audio(instrument, pitch, env, db_offset=-8)\n",
    "    \n",
    "    parts.append(audio)\n",
    "    \n",
    "harm_groups = [[3, 9, 11, 13, 15, 17, 19], [3, 13, 15, 17, 19, 21, 23], [3, 25, 27, 29, 31, 33, 35]]\n",
    "\n",
    "for harm, instrument in zip(harm_groups, instruments[-3:]):\n",
    "    scale = np.array(harmonics_to_pitches(initial, harm)[1:])\n",
    "    \n",
    "    if instrument == 'violin':\n",
    "#         pitch += line_segment(dur, 0, max(scale) - min(scale))\n",
    "        pitch = triangle(dur, 0.25/dur,\n",
    "                     lowest=min(scale)-1,\n",
    "                     highest=max(scale) + 1,\n",
    "                     phase=np.random.uniform(0, 1.))\n",
    "        db_offset = -12\n",
    "    else:\n",
    "        pitch = triangle(dur, np.random.uniform(4, 3),\n",
    "                     lowest=min(scale)-1,\n",
    "                     highest=min(scale) + 1,\n",
    "                     phase=np.random.uniform(0, 1.))\n",
    "        pitch += triangle(dur, 0.5/dur, 0.5, 0, max(scale) - min(scale), np.random.uniform(0, 1.))\n",
    "        db_offset = -6\n",
    "    \n",
    "    pitch = autotune_explicit(pitch, 0.9, scale)\n",
    "    \n",
    "    env = random_adsr(dur) * 10\n",
    "    env = np.concatenate([env, np.zeros(len(pitch) - len(env))])\n",
    "    env *= line_segment(dur, 0, 1)\n",
    "    \n",
    "    show(pitch, env)\n",
    "    \n",
    "    env = pad(env, 2)\n",
    "    pitch = pad(pitch, 2)\n",
    "    audio = generate_audio(instrument, pitch, env, db_offset=db_offset)\n",
    "    \n",
    "    parts.append(audio)\n",
    "\n",
    "result = sum(parts)\n",
    "Audio(result, rate=16000)"
   ]
  },
  {
   "cell_type": "code",
   "execution_count": null,
   "metadata": {},
   "outputs": [],
   "source": [
    "Audio(parts[1], rate=16000)"
   ]
  },
  {
   "cell_type": "code",
   "execution_count": null,
   "metadata": {},
   "outputs": [],
   "source": [
    "for data, name in zip(parts, instruments):\n",
    "    soundfile.write(f'./audio-data/original/chord-10-{name}.wav', data, 16000)"
   ]
  },
  {
   "cell_type": "code",
   "execution_count": null,
   "metadata": {},
   "outputs": [],
   "source": []
  }
 ],
 "metadata": {
  "kernelspec": {
   "display_name": "Python 3 (ipykernel)",
   "language": "python",
   "name": "python3"
  },
  "language_info": {
   "codemirror_mode": {
    "name": "ipython",
    "version": 3
   },
   "file_extension": ".py",
   "mimetype": "text/x-python",
   "name": "python",
   "nbconvert_exporter": "python",
   "pygments_lexer": "ipython3",
   "version": "3.9.9"
  }
 },
 "nbformat": 4,
 "nbformat_minor": 4
}
