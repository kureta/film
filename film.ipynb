{
 "cells": [
  {
   "cell_type": "code",
   "execution_count": null,
   "metadata": {},
   "outputs": [],
   "source": [
    "import matplotlib.pyplot as plt\n",
    "import numpy as np\n",
    "\n",
    "import random\n",
    "import librosa\n",
    "\n",
    "import warnings\n",
    "warnings.filterwarnings(\"ignore\")\n",
    "\n",
    "from composition.common import (\n",
    "    sinusoid, sweeping_sinusoid, line_segment, constant, triangle, square, adsr,\n",
    "    autotune, SECOND, get_t, autotune_explicit, phasor,\n",
    "    sweeping_square, sweeping_triangle, bpc, rescale, to_db_loudness, harmonics_to_pitches\n",
    ")\n",
    "from composition.instrument import Score, Part, Phrase\n",
    "from utils import QuantileTransformer\n",
    "\n",
    "plt.rcParams['figure.figsize'] = (15, 5)"
   ]
  },
  {
   "cell_type": "code",
   "execution_count": null,
   "metadata": {},
   "outputs": [],
   "source": [
    "import os\n",
    "os.environ['TF_CPP_MIN_LOG_LEVEL'] = '3'  # or any {'0', '1', '2'}\n",
    "import tensorflow as tf\n",
    "tf.get_logger().setLevel('ERROR')"
   ]
  },
  {
   "cell_type": "code",
   "execution_count": null,
   "metadata": {},
   "outputs": [],
   "source": [
    "import ddsp\n",
    "from composition.instrument import show"
   ]
  },
  {
   "cell_type": "markdown",
   "metadata": {},
   "source": [
    "* violin: mean: -43.36, std: 5.23\n",
    "* viola: mean: -42.76, std: 7.77\n",
    "* cello: mean: -57.26, std: 6.12\n",
    "* flute: mean: -55.27, std: 8.37\n",
    "* flute2: mean: -55.27, std: 8.37"
   ]
  },
  {
   "cell_type": "markdown",
   "metadata": {},
   "source": [
    "- Violin 55-103\n",
    "- Viola 48-91\n",
    "- Cello 36-76\n",
    "- Flute 60-96\n",
    "- Flute2 55-91"
   ]
  },
  {
   "cell_type": "code",
   "execution_count": null,
   "metadata": {},
   "outputs": [],
   "source": [
    "higher_harms = harmonics_to_pitches(36, [2, 11, 13, 15, 17, 19, 21, 23, 25, 27])[1:]"
   ]
  },
  {
   "cell_type": "code",
   "execution_count": null,
   "metadata": {},
   "outputs": [],
   "source": [
    "stretched_higher_harms = harmonics_to_pitches(36, [n ** 1.02 for n in [2, 11, 13, 15, 17, 19, 21, 23, 25, 27]])[1:]"
   ]
  },
  {
   "cell_type": "code",
   "execution_count": null,
   "metadata": {},
   "outputs": [],
   "source": [
    "duration = 25\n",
    "pitches = sweeping_sinusoid(duration, 0.1, 0.01, 72, 3)\n",
    "pitches += line_segment(duration, 0, 7)\n",
    "pitches = autotune(pitches, 0.9)\n",
    "pitches += sinusoid(duration, 4, 0, 0.15)\n",
    "\n",
    "amps = np.concatenate([adsr(0.1, 0.1, 1 - (0.1 + 0.1 + 0.5), 0.5, 1, 0.8) for _ in range(25)])\n",
    "padding = len(pitches) - len(amps)\n",
    "amps = np.pad(amps, (0, padding), mode='edge')\n",
    "\n",
    "# amps = sweeping_triangle(duration, 2, 6, 0.1)\n",
    "\n",
    "amps = rescale(amps, -70, -55)\n",
    "amps += line_segment(duration, 0, 8)\n",
    "amps += sinusoid(duration, 4, 0, 1, phase=0.1324)"
   ]
  },
  {
   "cell_type": "code",
   "execution_count": null,
   "metadata": {},
   "outputs": [],
   "source": [
    "vln1_phrase = Phrase(pitches, amps)\n",
    "vln1_part = Part('Vln. 1', 'violin')\n",
    "vln1_part.add_phrase(vln1_phrase)"
   ]
  },
  {
   "cell_type": "code",
   "execution_count": null,
   "metadata": {},
   "outputs": [],
   "source": [
    "vln1_part.show()\n",
    "vln1_part.play()"
   ]
  },
  {
   "cell_type": "code",
   "execution_count": null,
   "metadata": {},
   "outputs": [],
   "source": [
    "s, _ = librosa.load('/home/kureta/Documents/Stasis/path of least resistance/Path of Least Resistance - Voice/samples/Audio 1-26.wav', 16000)"
   ]
  },
  {
   "cell_type": "code",
   "execution_count": null,
   "metadata": {},
   "outputs": [],
   "source": [
    "audio_features = ddsp.training.metrics.compute_audio_features(s)"
   ]
  },
  {
   "cell_type": "code",
   "execution_count": null,
   "metadata": {},
   "outputs": [],
   "source": [
    "p = Phrase(librosa.hz_to_midi(audio_features['f0_hz']), audio_features['loudness_db'])"
   ]
  },
  {
   "cell_type": "code",
   "execution_count": null,
   "metadata": {},
   "outputs": [],
   "source": [
    "vln1_part.add_phrase(p)"
   ]
  },
  {
   "cell_type": "code",
   "execution_count": null,
   "metadata": {},
   "outputs": [],
   "source": [
    "show(audio_features['f0_hz'], audio_features['loudness_db'])"
   ]
  },
  {
   "cell_type": "code",
   "execution_count": null,
   "metadata": {},
   "outputs": [],
   "source": [
    "vln1_part.phrases[1].pitch += 24.0"
   ]
  },
  {
   "cell_type": "code",
   "execution_count": null,
   "metadata": {},
   "outputs": [],
   "source": [
    "vln1_part.play()"
   ]
  },
  {
   "cell_type": "code",
   "execution_count": null,
   "metadata": {},
   "outputs": [],
   "source": [
    "vln1_part.show()"
   ]
  },
  {
   "cell_type": "code",
   "execution_count": null,
   "metadata": {},
   "outputs": [],
   "source": [
    "duration = 25\n",
    "pitches = sweeping_sinusoid(duration, 0.1, 2, 60, 3)\n",
    "\n",
    "amps = sweeping_triangle(duration, 1, 8, 0.5, -80, -12)\n",
    "\n",
    "flute_ph = Phrase(pitches, amps)\n",
    "flute_part = Part('Flt. 1', 'flute')\n",
    "flute_part.add_phrase(flute_ph)"
   ]
  },
  {
   "cell_type": "code",
   "execution_count": null,
   "metadata": {},
   "outputs": [],
   "source": [
    "flute_part.show()"
   ]
  },
  {
   "cell_type": "code",
   "execution_count": null,
   "metadata": {},
   "outputs": [],
   "source": [
    "flute_part.play()"
   ]
  },
  {
   "cell_type": "code",
   "execution_count": null,
   "metadata": {},
   "outputs": [],
   "source": [
    "duration = 25\n",
    "pitches = sweeping_sinusoid(duration, 0.1, 2, 72, 3)\n",
    "pitches += line_segment(duration, 0, 7)\n",
    "pitches = autotune(pitches, 0.9)\n",
    "pitches += sinusoid(duration, 4, 0, 0.15)\n",
    "\n",
    "amps = np.concatenate([adsr(0.1, 0.1, 1 - (0.1 + 0.1 + 0.5), 0.5, 1, 0.8) for _ in range(25)])\n",
    "padding = len(pitches) - len(amps)\n",
    "amps = np.pad(amps, (0, padding), mode='edge')\n",
    "\n",
    "# amps = sweeping_triangle(duration, 2, 6, 0.1)\n",
    "\n",
    "amps = rescale(amps, -70, -55)\n",
    "amps += line_segment(duration, 0, 8)\n",
    "amps += sinusoid(duration, 4, 0, 1, phase=0.1324)"
   ]
  },
  {
   "cell_type": "code",
   "execution_count": null,
   "metadata": {},
   "outputs": [],
   "source": [
    "import pickle"
   ]
  },
  {
   "cell_type": "code",
   "execution_count": null,
   "metadata": {},
   "outputs": [],
   "source": [
    "with open('audio-data/original/22 Seconds V/score.pkl', 'rb') as f:\n",
    "    score = pickle.load(f)"
   ]
  },
  {
   "cell_type": "code",
   "execution_count": null,
   "metadata": {},
   "outputs": [],
   "source": [
    "for part in score.parts:\n",
    "    for phrase in part.phrases:\n",
    "        mean = np.mean(phrase.loudness)\n",
    "        std = np.std(phrase.loudness)\n",
    "        limit = mean - std\n",
    "        phrase.loudness = to_db_loudness(phrase.loudness, part.instrument, min_loudness=limit)"
   ]
  },
  {
   "cell_type": "code",
   "execution_count": null,
   "metadata": {},
   "outputs": [],
   "source": [
    "score.show()"
   ]
  },
  {
   "cell_type": "code",
   "execution_count": null,
   "metadata": {},
   "outputs": [],
   "source": [
    "score.play()"
   ]
  },
  {
   "cell_type": "code",
   "execution_count": null,
   "metadata": {},
   "outputs": [],
   "source": [
    "score.parts[3].play()"
   ]
  },
  {
   "cell_type": "code",
   "execution_count": null,
   "metadata": {},
   "outputs": [],
   "source": [
    "for part in score.parts:\n",
    "    print(part.instrument) "
   ]
  },
  {
   "cell_type": "code",
   "execution_count": null,
   "metadata": {},
   "outputs": [],
   "source": [
    "cello = score.parts[3]\n",
    "flute2 = score.parts[4]\n",
    "flute1 = score.parts[5]"
   ]
  },
  {
   "cell_type": "code",
   "execution_count": null,
   "metadata": {},
   "outputs": [],
   "source": [
    "cello.phrases[1].show()"
   ]
  },
  {
   "cell_type": "code",
   "execution_count": null,
   "metadata": {},
   "outputs": [],
   "source": [
    "flute2.phrases[1].show()"
   ]
  },
  {
   "cell_type": "code",
   "execution_count": null,
   "metadata": {},
   "outputs": [],
   "source": [
    "flute1.phrases[1].show()"
   ]
  },
  {
   "cell_type": "code",
   "execution_count": null,
   "metadata": {},
   "outputs": [],
   "source": [
    "cello.phrases[1].pitch[:] = 61."
   ]
  },
  {
   "cell_type": "code",
   "execution_count": null,
   "metadata": {},
   "outputs": [],
   "source": [
    "score.show()"
   ]
  },
  {
   "cell_type": "code",
   "execution_count": null,
   "metadata": {},
   "outputs": [],
   "source": [
    "def remap(xs, out_min, out_max):\n",
    "    result = (xs - xs.min()) / xs.max()\n",
    "    result = result * (out_max - out_min) + out_min\n",
    "    \n",
    "    return result"
   ]
  },
  {
   "cell_type": "code",
   "execution_count": null,
   "metadata": {},
   "outputs": [],
   "source": [
    "with open('audio-data/original/22 Seconds V/score.pkl', 'rb') as f:\n",
    "    score = pickle.load(f)"
   ]
  },
  {
   "cell_type": "code",
   "execution_count": null,
   "metadata": {},
   "outputs": [],
   "source": [
    "score.parts[0].phrases[0].loudness = remap(score.parts[0].phrases[0].loudness, -70, -33)"
   ]
  },
  {
   "cell_type": "code",
   "execution_count": null,
   "metadata": {},
   "outputs": [],
   "source": [
    "score.parts[1].phrases[0].loudness = remap(score.parts[1].phrases[0].loudness, -70, -33)"
   ]
  },
  {
   "cell_type": "code",
   "execution_count": null,
   "metadata": {},
   "outputs": [],
   "source": [
    "score.parts[2].phrases[0].loudness = remap(score.parts[2].phrases[0].loudness, -70, -33)\n",
    "score.parts[2].phrases[0].loudness += np.random.randn(len(score.parts[2].phrases[0].loudness))*0.5\n",
    "score.parts[2].instrument = 'violin'"
   ]
  },
  {
   "cell_type": "code",
   "execution_count": null,
   "metadata": {},
   "outputs": [],
   "source": [
    "score.parts[3].phrases[0].loudness = sweeping_triangle(22, 0.25, 4, 0.1, -43, -33) - 25\n",
    "score.parts[3].phrases[0].loudness += sweeping_square(22, 0.125, 2, 0.5, -1, 0)\n",
    "score.parts[3].phrases[0].loudness += line_segment(22, 0, 6)\n",
    "score.parts[3].phrases[0].loudness += np.random.randn(len(score.parts[3].phrases[0].loudness))*0.5\n",
    "\n",
    "score.parts[3].phrases[1].loudness = remap(score.parts[3].phrases[1].loudness, -69, -52)\n",
    "score.parts[3].instrument = 'cello'"
   ]
  },
  {
   "cell_type": "code",
   "execution_count": null,
   "metadata": {},
   "outputs": [],
   "source": [
    "score.parts[4].phrases[0].loudness = remap(score.parts[5].phrases[0].loudness, -63, 6-47)\n",
    "score.parts[4].phrases[1].loudness = remap(score.parts[5].phrases[1].loudness, -60, -60)"
   ]
  },
  {
   "cell_type": "code",
   "execution_count": null,
   "metadata": {},
   "outputs": [],
   "source": [
    "score.parts[4].play()"
   ]
  },
  {
   "cell_type": "code",
   "execution_count": null,
   "metadata": {},
   "outputs": [],
   "source": []
  }
 ],
 "metadata": {
  "kernelspec": {
   "display_name": "Python 3 (ipykernel)",
   "language": "python",
   "name": "python3"
  },
  "language_info": {
   "codemirror_mode": {
    "name": "ipython",
    "version": 3
   },
   "file_extension": ".py",
   "mimetype": "text/x-python",
   "name": "python",
   "nbconvert_exporter": "python",
   "pygments_lexer": "ipython3",
   "version": "3.9.9"
  }
 },
 "nbformat": 4,
 "nbformat_minor": 4
}
